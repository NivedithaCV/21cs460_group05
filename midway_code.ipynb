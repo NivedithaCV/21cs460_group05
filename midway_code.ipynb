{
 "cells": [
  {
   "cell_type": "code",
   "execution_count": 1,
   "id": "9ff9ac57",
   "metadata": {},
   "outputs": [],
   "source": [
    "import numpy as np \n",
    "import matplotlib\n",
    "import pandas as pd\n"
   ]
  },
  {
   "cell_type": "code",
   "execution_count": 2,
   "id": "fa5037ed",
   "metadata": {},
   "outputs": [],
   "source": [
    "df=pd.read_excel(\"15_Master_Mixtures_Part_1.xlsx\",header=[3])\n",
    "\n",
    "df1=pd.read_excel(\"orthopyroxene.xlsx\",header=[2],usecols = \"A:S\")\n"
   ]
  },
  {
   "cell_type": "code",
   "execution_count": 3,
   "id": "4967ad05",
   "metadata": {},
   "outputs": [],
   "source": [
    "\n",
    "df=df[df['Wavelength (nm)'] % 5==0]\n"
   ]
  },
  {
   "cell_type": "code",
   "execution_count": 4,
   "id": "5489f908",
   "metadata": {},
   "outputs": [
    {
     "data": {
      "text/html": [
       "<div>\n",
       "<style scoped>\n",
       "    .dataframe tbody tr th:only-of-type {\n",
       "        vertical-align: middle;\n",
       "    }\n",
       "\n",
       "    .dataframe tbody tr th {\n",
       "        vertical-align: top;\n",
       "    }\n",
       "\n",
       "    .dataframe thead th {\n",
       "        text-align: right;\n",
       "    }\n",
       "</style>\n",
       "<table border=\"1\" class=\"dataframe\">\n",
       "  <thead>\n",
       "    <tr style=\"text-align: right;\">\n",
       "      <th></th>\n",
       "      <th>Sample ID</th>\n",
       "      <th>pomix1001</th>\n",
       "      <th>pomix1002</th>\n",
       "      <th>pomix1003</th>\n",
       "      <th>pomix1004</th>\n",
       "      <th>pomix1005</th>\n",
       "      <th>pomix1006</th>\n",
       "      <th>pomix1007</th>\n",
       "      <th>pomix1008</th>\n",
       "      <th>pomix1009</th>\n",
       "      <th>pomix1010</th>\n",
       "      <th>pomix1011</th>\n",
       "    </tr>\n",
       "  </thead>\n",
       "  <tbody>\n",
       "    <tr>\n",
       "      <th>0</th>\n",
       "      <td>350.0</td>\n",
       "      <td>0.376196</td>\n",
       "      <td>0.370462</td>\n",
       "      <td>0.363278</td>\n",
       "      <td>0.353580</td>\n",
       "      <td>0.340621</td>\n",
       "      <td>0.332769</td>\n",
       "      <td>0.318204</td>\n",
       "      <td>0.307754</td>\n",
       "      <td>0.297022</td>\n",
       "      <td>0.280151</td>\n",
       "      <td>0.268197</td>\n",
       "    </tr>\n",
       "    <tr>\n",
       "      <th>1</th>\n",
       "      <td>351.0</td>\n",
       "      <td>0.378947</td>\n",
       "      <td>0.373220</td>\n",
       "      <td>0.366081</td>\n",
       "      <td>0.356991</td>\n",
       "      <td>0.343358</td>\n",
       "      <td>0.336115</td>\n",
       "      <td>0.321274</td>\n",
       "      <td>0.311133</td>\n",
       "      <td>0.299801</td>\n",
       "      <td>0.283391</td>\n",
       "      <td>0.270876</td>\n",
       "    </tr>\n",
       "    <tr>\n",
       "      <th>2</th>\n",
       "      <td>352.0</td>\n",
       "      <td>0.381100</td>\n",
       "      <td>0.375180</td>\n",
       "      <td>0.368056</td>\n",
       "      <td>0.359338</td>\n",
       "      <td>0.345317</td>\n",
       "      <td>0.337932</td>\n",
       "      <td>0.323166</td>\n",
       "      <td>0.313332</td>\n",
       "      <td>0.301584</td>\n",
       "      <td>0.285271</td>\n",
       "      <td>0.272803</td>\n",
       "    </tr>\n",
       "    <tr>\n",
       "      <th>3</th>\n",
       "      <td>353.0</td>\n",
       "      <td>0.382938</td>\n",
       "      <td>0.376712</td>\n",
       "      <td>0.369611</td>\n",
       "      <td>0.361028</td>\n",
       "      <td>0.346926</td>\n",
       "      <td>0.338855</td>\n",
       "      <td>0.324434</td>\n",
       "      <td>0.314763</td>\n",
       "      <td>0.302805</td>\n",
       "      <td>0.286293</td>\n",
       "      <td>0.274266</td>\n",
       "    </tr>\n",
       "    <tr>\n",
       "      <th>4</th>\n",
       "      <td>354.0</td>\n",
       "      <td>0.385611</td>\n",
       "      <td>0.379309</td>\n",
       "      <td>0.372475</td>\n",
       "      <td>0.363723</td>\n",
       "      <td>0.350102</td>\n",
       "      <td>0.341543</td>\n",
       "      <td>0.327481</td>\n",
       "      <td>0.316905</td>\n",
       "      <td>0.305150</td>\n",
       "      <td>0.288231</td>\n",
       "      <td>0.276254</td>\n",
       "    </tr>\n",
       "  </tbody>\n",
       "</table>\n",
       "</div>"
      ],
      "text/plain": [
       "   Sample ID  pomix1001  pomix1002  pomix1003  pomix1004  pomix1005  \\\n",
       "0      350.0   0.376196   0.370462   0.363278   0.353580   0.340621   \n",
       "1      351.0   0.378947   0.373220   0.366081   0.356991   0.343358   \n",
       "2      352.0   0.381100   0.375180   0.368056   0.359338   0.345317   \n",
       "3      353.0   0.382938   0.376712   0.369611   0.361028   0.346926   \n",
       "4      354.0   0.385611   0.379309   0.372475   0.363723   0.350102   \n",
       "\n",
       "   pomix1006  pomix1007  pomix1008  pomix1009  pomix1010  pomix1011  \n",
       "0   0.332769   0.318204   0.307754   0.297022   0.280151   0.268197  \n",
       "1   0.336115   0.321274   0.311133   0.299801   0.283391   0.270876  \n",
       "2   0.337932   0.323166   0.313332   0.301584   0.285271   0.272803  \n",
       "3   0.338855   0.324434   0.314763   0.302805   0.286293   0.274266  \n",
       "4   0.341543   0.327481   0.316905   0.305150   0.288231   0.276254  "
      ]
     },
     "execution_count": 4,
     "metadata": {},
     "output_type": "execute_result"
    }
   ],
   "source": [
    "df4 = pd.read_excel(\"15_Master_Mixtures_Part_1.xlsx\", sheet_name=\"15_2_Mixtures\",header=[3],usecols = \"A:L\")\n",
    "df4.head()"
   ]
  },
  {
   "cell_type": "code",
   "execution_count": 6,
   "id": "6bb86c2b",
   "metadata": {},
   "outputs": [
    {
     "name": "stdout",
     "output_type": "stream",
     "text": [
      "      Sample ID  pomix1001  pomix1002  pomix1003  pomix1004  pomix1005  \\\n",
      "0         350.0   0.376196   0.370462   0.363278   0.353580   0.340621   \n",
      "5         355.0   0.387933   0.381464   0.374576   0.365583   0.352153   \n",
      "10        360.0   0.399753   0.393224   0.386028   0.378257   0.364093   \n",
      "15        365.0   0.411599   0.405153   0.398225   0.390337   0.376844   \n",
      "20        370.0   0.423051   0.416757   0.410986   0.403189   0.389129   \n",
      "...         ...        ...        ...        ...        ...        ...   \n",
      "2130     2480.0   0.622465   0.611169   0.609519   0.602812   0.583693   \n",
      "2135     2485.0   0.622840   0.612001   0.610763   0.604860   0.584018   \n",
      "2140     2490.0   0.623309   0.612653   0.611479   0.605496   0.584183   \n",
      "2145     2495.0   0.624294   0.612794   0.611911   0.605801   0.585602   \n",
      "2150     2500.0   0.625140   0.613496   0.612801   0.607113   0.586328   \n",
      "\n",
      "      pomix1006  pomix1007  pomix1008  pomix1009  pomix1010  pomix1011  \n",
      "0      0.332769   0.318204   0.307754   0.297022   0.280151   0.268197  \n",
      "5      0.343816   0.329307   0.318909   0.307305   0.289987   0.277552  \n",
      "10     0.355900   0.342292   0.331693   0.319839   0.302436   0.289480  \n",
      "15     0.368281   0.354477   0.344704   0.333165   0.316023   0.301735  \n",
      "20     0.380671   0.367115   0.357910   0.345442   0.328417   0.314047  \n",
      "...         ...        ...        ...        ...        ...        ...  \n",
      "2130   0.570751   0.552194   0.540124   0.527984   0.510028   0.482921  \n",
      "2135   0.571451   0.552937   0.540263   0.528387   0.510747   0.483511  \n",
      "2140   0.571906   0.553338   0.540920   0.528086   0.511073   0.483849  \n",
      "2145   0.572514   0.553915   0.541802   0.528654   0.511864   0.484184  \n",
      "2150   0.573151   0.554202   0.542904   0.529271   0.512756   0.485828  \n",
      "\n",
      "[431 rows x 12 columns]\n"
     ]
    }
   ],
   "source": [
    "df4=df4[df4['Sample ID'] % 5==0]\n",
    "print(df4)"
   ]
  },
  {
   "cell_type": "code",
   "execution_count": 11,
   "id": "33c29362",
   "metadata": {},
   "outputs": [],
   "source": [
    "df2=pd.read_excel(\"2_2_Master_Olivines.xlsx\",header=[3],usecols = \"A,C:S\")\n",
    "df3=pd.read_excel(\"Clinopyroxene.xlsx\",header=[2])\n"
   ]
  },
  {
   "cell_type": "code",
   "execution_count": 8,
   "id": "8603b82d",
   "metadata": {},
   "outputs": [],
   "source": [
    "# dropping nan column\n",
    "df.dropna(how='all', axis=1, inplace=True)\n"
   ]
  },
  {
   "cell_type": "code",
   "execution_count": 9,
   "id": "7adf7674",
   "metadata": {},
   "outputs": [],
   "source": [
    "df1.dropna(how='all', axis=1, inplace=True)\n"
   ]
  },
  {
   "cell_type": "code",
   "execution_count": 13,
   "id": "131f7204",
   "metadata": {},
   "outputs": [],
   "source": [
    "df2.dropna(how='all',axis=1,inplace=True)\n"
   ]
  },
  {
   "cell_type": "code",
   "execution_count": 14,
   "id": "6fc67909",
   "metadata": {},
   "outputs": [
    {
     "name": "stdout",
     "output_type": "stream",
     "text": [
      "     wavelength (nm)    OLV002  OLV002.1    OLV003  OLV003.1  OLV003.2  \\\n",
      "0              300.0  0.141179  0.068696  0.225242  0.082596  0.247412   \n",
      "1              305.0  0.150881  0.071555  0.236697  0.085956  0.251261   \n",
      "2              310.0  0.157884  0.075518  0.252683  0.093252  0.264559   \n",
      "3              315.0  0.173051  0.080394  0.271370  0.103220  0.279718   \n",
      "4              320.0  0.188458  0.089754  0.297143  0.115948  0.302189   \n",
      "..               ...       ...       ...       ...       ...       ...   \n",
      "436           2480.0  0.747488  0.778521  0.791292  0.761921  0.696385   \n",
      "437           2485.0  0.747556  0.778615  0.791516  0.760329  0.694771   \n",
      "438           2490.0  0.747877  0.779214  0.792605  0.760035  0.694832   \n",
      "439           2495.0  0.748427  0.780564  0.792060  0.758931  0.694031   \n",
      "440           2500.0  0.748935  0.780635  0.792420  0.759391  0.694564   \n",
      "\n",
      "       OLV005  OLV005.1    OLV007    OLV008    OLV009  OLV009.1    OLV010  \\\n",
      "0    0.232673  0.118157  0.337626  0.203446  0.255762  0.161652  0.157210   \n",
      "1    0.246497  0.124934  0.354148  0.213743  0.270101  0.172845  0.163322   \n",
      "2    0.262606  0.135626  0.372621  0.223533  0.285271  0.185010  0.174668   \n",
      "3    0.281846  0.150595  0.393967  0.236480  0.305078  0.203639  0.187721   \n",
      "4    0.307655  0.170917  0.415358  0.250985  0.327723  0.225373  0.204607   \n",
      "..        ...       ...       ...       ...       ...       ...       ...   \n",
      "436  0.809891  0.879365  0.831280  0.565900  0.753949  0.743658  0.756364   \n",
      "437  0.810218  0.880163  0.829888  0.564617  0.753230  0.742347  0.756499   \n",
      "438  0.810633  0.880685  0.830616  0.561487  0.751074  0.738934  0.757534   \n",
      "439  0.811224  0.881060  0.830689  0.557678  0.747362  0.736177  0.757639   \n",
      "440  0.810999  0.882224  0.830902  0.552949  0.745242  0.732522  0.757748   \n",
      "\n",
      "       OLV011    OLV012    OLV013  OLV013.1    OLV015  \n",
      "0    0.036882  0.245589  0.204281  0.100261  0.034272  \n",
      "1    0.036343  0.256327  0.217719  0.102430  0.036958  \n",
      "2    0.033733  0.269955  0.231753  0.111564  0.037610  \n",
      "3    0.033927  0.286845  0.248900  0.124599  0.040233  \n",
      "4    0.033899  0.305413  0.270109  0.139334  0.043988  \n",
      "..        ...       ...       ...       ...       ...  \n",
      "436  0.432386  0.772076  0.811734  0.846260  0.406858  \n",
      "437  0.431433  0.772880  0.812042  0.846242  0.405836  \n",
      "438  0.431581  0.773665  0.812121  0.846242  0.404876  \n",
      "439  0.431602  0.774244  0.811763  0.847017  0.405064  \n",
      "440  0.431796  0.773493  0.812573  0.847705  0.405019  \n",
      "\n",
      "[441 rows x 18 columns]\n"
     ]
    }
   ],
   "source": [
    "index_names = df2[ df2['wavelength (nm)'] > 2500 ].index\n",
    "df2.drop(index_names, inplace = True)\n",
    "print(df2)"
   ]
  },
  {
   "cell_type": "code",
   "execution_count": 15,
   "id": "ecda1c54",
   "metadata": {},
   "outputs": [],
   "source": [
    "index_name = df2[ df2['wavelength (nm)'] <350 ].index\n",
    "df2.drop(index_name, inplace = True)\n"
   ]
  },
  {
   "cell_type": "code",
   "execution_count": null,
   "id": "6e58f82f",
   "metadata": {},
   "outputs": [],
   "source": [
    "df2"
   ]
  },
  {
   "cell_type": "code",
   "execution_count": 16,
   "id": "d7a82f6a",
   "metadata": {},
   "outputs": [
    {
     "name": "stdout",
     "output_type": "stream",
     "text": [
      "     Sample ID  Unnamed: 1    PYX005    PYX006    PYX007    PYX009    PYX010  \\\n",
      "0        300.0       0.300  0.037176  0.046311  0.043381  0.110386  0.038433   \n",
      "1        305.0       0.305  0.039428  0.048072  0.042535  0.127304  0.039469   \n",
      "2        310.0       0.310  0.041565  0.050106  0.046382  0.151714  0.041604   \n",
      "3        315.0       0.315  0.041257  0.057459  0.046341  0.184247  0.041009   \n",
      "4        320.0       0.320  0.043374  0.064711  0.045958  0.220085  0.044791   \n",
      "..         ...         ...       ...       ...       ...       ...       ...   \n",
      "436     2480.0       2.480  0.307318  0.555800  0.319139  0.814332  0.450170   \n",
      "437     2485.0       2.485  0.308245  0.557013  0.319647  0.813310  0.452174   \n",
      "438     2490.0       2.490  0.309239  0.559352  0.319979  0.812962  0.454538   \n",
      "439     2495.0       2.495  0.310584  0.561207  0.319954  0.812877  0.456321   \n",
      "440     2500.0       2.500  0.311734  0.562555  0.320309  0.812780  0.458707   \n",
      "\n",
      "      PYX012d    PYX015    PYX016  ...    PYX135    PYX136    PYX150  \\\n",
      "0    0.094060  0.121421  0.073363  ...  0.202961  0.254901  0.173359   \n",
      "1    0.100515  0.125835  0.077228  ...  0.237740  0.276984  0.194732   \n",
      "2    0.113741  0.132254  0.087334  ...  0.281013  0.310411  0.218810   \n",
      "3    0.126445  0.140790  0.102967  ...  0.332956  0.343499  0.252641   \n",
      "4    0.140245  0.151586  0.123256  ...  0.391597  0.376016  0.288661   \n",
      "..        ...       ...       ...  ...       ...       ...       ...   \n",
      "436  0.237527  0.692139  0.542992  ...  0.846137  0.777452  0.805918   \n",
      "437  0.235006  0.691573  0.547270  ...  0.847902  0.781072  0.805134   \n",
      "438  0.230439  0.692133  0.550687  ...  0.848931  0.781381  0.804132   \n",
      "439  0.220538  0.692306  0.554534  ...  0.849617  0.779073  0.805043   \n",
      "440  0.210175  0.692151  0.558291  ...  0.850440  0.775694  0.803365   \n",
      "\n",
      "       PYX160    PYX162    PYX165    PYX167    PYX170    PYX171    PYX172  \n",
      "0    0.041867  0.152724  0.033864  0.192754  0.111798  0.108399  0.030507  \n",
      "1    0.042624  0.178641  0.035681  0.208231  0.119340  0.111947  0.031207  \n",
      "2    0.043130  0.209449  0.036509  0.223590  0.134660  0.121465  0.032241  \n",
      "3    0.045306  0.249391  0.038081  0.238039  0.152199  0.133513  0.034375  \n",
      "4    0.047901  0.294535  0.039008  0.255872  0.174017  0.150071  0.035326  \n",
      "..        ...       ...       ...       ...       ...       ...       ...  \n",
      "436  0.521701  0.691497  0.322327  0.563916  0.629261  0.748365  0.675372  \n",
      "437  0.523999  0.693187  0.324681  0.563949  0.629975  0.747036  0.677241  \n",
      "438  0.526418  0.694342  0.326083  0.565002  0.630668  0.747130  0.677203  \n",
      "439  0.528753  0.695251  0.327931  0.565074  0.631881  0.745955  0.676832  \n",
      "440  0.531553  0.695679  0.329620  0.567109  0.633366  0.745703  0.679550  \n",
      "\n",
      "[441 rows x 51 columns]\n"
     ]
    }
   ],
   "source": [
    "df3.dropna(how='all',axis=1,inplace=True)\n",
    "print(df3)\n"
   ]
  },
  {
   "cell_type": "code",
   "execution_count": 17,
   "id": "e9e93159",
   "metadata": {},
   "outputs": [],
   "source": [
    "df3=df3.drop(labels=range(0,10),axis=0)\n"
   ]
  },
  {
   "cell_type": "code",
   "execution_count": 18,
   "id": "2a9f4c8c",
   "metadata": {},
   "outputs": [
    {
     "name": "stdout",
     "output_type": "stream",
     "text": [
      "     Sample ID  Unnamed: 1    PYX005    PYX006    PYX007    PYX009    PYX010  \\\n",
      "10       350.0       0.350  0.056931  0.114638  0.056060  0.431825  0.053940   \n",
      "11       355.0       0.355  0.059404  0.121698  0.057479  0.455344  0.054993   \n",
      "12       360.0       0.360  0.062647  0.129935  0.058804  0.473683  0.056324   \n",
      "13       365.0       0.365  0.065235  0.136404  0.060972  0.489242  0.057179   \n",
      "14       370.0       0.370  0.067257  0.141783  0.062526  0.500732  0.057896   \n",
      "..         ...         ...       ...       ...       ...       ...       ...   \n",
      "436     2480.0       2.480  0.307318  0.555800  0.319139  0.814332  0.450170   \n",
      "437     2485.0       2.485  0.308245  0.557013  0.319647  0.813310  0.452174   \n",
      "438     2490.0       2.490  0.309239  0.559352  0.319979  0.812962  0.454538   \n",
      "439     2495.0       2.495  0.310584  0.561207  0.319954  0.812877  0.456321   \n",
      "440     2500.0       2.500  0.311734  0.562555  0.320309  0.812780  0.458707   \n",
      "\n",
      "      PYX012d    PYX015    PYX016  ...    PYX135    PYX136    PYX150  \\\n",
      "10   0.228361  0.250036  0.314342  ...  0.585845  0.524928  0.502592   \n",
      "11   0.249076  0.270042  0.339817  ...  0.596699  0.540230  0.527893   \n",
      "12   0.267729  0.290164  0.364944  ...  0.606117  0.555851  0.550388   \n",
      "13   0.278183  0.308992  0.386439  ...  0.614753  0.571410  0.568116   \n",
      "14   0.296558  0.325362  0.403534  ...  0.620592  0.586506  0.583885   \n",
      "..        ...       ...       ...  ...       ...       ...       ...   \n",
      "436  0.237527  0.692139  0.542992  ...  0.846137  0.777452  0.805918   \n",
      "437  0.235006  0.691573  0.547270  ...  0.847902  0.781072  0.805134   \n",
      "438  0.230439  0.692133  0.550687  ...  0.848931  0.781381  0.804132   \n",
      "439  0.220538  0.692306  0.554534  ...  0.849617  0.779073  0.805043   \n",
      "440  0.210175  0.692151  0.558291  ...  0.850440  0.775694  0.803365   \n",
      "\n",
      "       PYX160    PYX162    PYX165    PYX167    PYX170    PYX171    PYX172  \n",
      "10   0.065405  0.557604  0.042610  0.351401  0.353038  0.327322  0.045837  \n",
      "11   0.068225  0.584060  0.043373  0.365862  0.380854  0.360428  0.047737  \n",
      "12   0.072188  0.606030  0.043598  0.378919  0.406113  0.391625  0.050060  \n",
      "13   0.075327  0.623309  0.043968  0.392825  0.426331  0.419830  0.052291  \n",
      "14   0.077577  0.636485  0.044735  0.404504  0.442816  0.444919  0.054494  \n",
      "..        ...       ...       ...       ...       ...       ...       ...  \n",
      "436  0.521701  0.691497  0.322327  0.563916  0.629261  0.748365  0.675372  \n",
      "437  0.523999  0.693187  0.324681  0.563949  0.629975  0.747036  0.677241  \n",
      "438  0.526418  0.694342  0.326083  0.565002  0.630668  0.747130  0.677203  \n",
      "439  0.528753  0.695251  0.327931  0.565074  0.631881  0.745955  0.676832  \n",
      "440  0.531553  0.695679  0.329620  0.567109  0.633366  0.745703  0.679550  \n",
      "\n",
      "[431 rows x 51 columns]\n"
     ]
    }
   ],
   "source": [
    "df3.head()\n",
    "print(df3)"
   ]
  },
  {
   "cell_type": "code",
   "execution_count": 19,
   "id": "9cccd48d",
   "metadata": {},
   "outputs": [],
   "source": [
    "\n",
    "\n",
    "# This function take a dataframe\n",
    "# as a parameter and returning list\n",
    "# of column names whose contents \n",
    "# are duplicates.\n",
    "def getDuplicateColumns(df):\n",
    "  \n",
    "    # Create an empty set\n",
    "    duplicateColumnNames = set()\n",
    "      \n",
    "    # Iterate through all the columns \n",
    "    # of dataframe\n",
    "    for x in range(df.shape[1]):\n",
    "          \n",
    "        # Take column at xth index.\n",
    "        col = df.iloc[:, x]\n",
    "          \n",
    "        # Iterate through all the columns in\n",
    "        # DataFrame from (x + 1)th index to\n",
    "        # last index\n",
    "        for y in range(x + 1, df.shape[1]):\n",
    "              \n",
    "            # Take column at yth index.\n",
    "            otherCol = df.iloc[:, y]\n",
    "              \n",
    "            # Check if two columns at x & y\n",
    "            # index are equal or not,\n",
    "            # if equal then adding \n",
    "            # to the set\n",
    "            if col.equals(otherCol):\n",
    "                duplicateColumnNames.add(df.columns.values[y])\n",
    "                  \n",
    "    # Return list of unique column names \n",
    "    # whose contents are duplicates.\n",
    "    return list(duplicateColumnNames)"
   ]
  },
  {
   "cell_type": "code",
   "execution_count": 20,
   "id": "9a328bf4",
   "metadata": {
    "scrolled": true
   },
   "outputs": [
    {
     "name": "stdout",
     "output_type": "stream",
     "text": [
      "Duplicate Columns are :\n",
      "Column Name :  dec1406.015.1\n",
      "45\n",
      "Column Name :  dec1406.021.1\n",
      "51\n",
      "Column Name :  dec1406.018.1\n",
      "48\n",
      "Column Name :  dec1406.023.1\n",
      "53\n",
      "Column Name :  dec1406.017.1\n",
      "47\n",
      "Column Name :  Wavelength\n",
      "15\n",
      "Column Name :  dec1406.013.1\n",
      "43\n",
      "Column Name :  dec1406.014.1\n",
      "44\n",
      "Column Name :  dec1406.020.1\n",
      "50\n",
      "Column Name :  dec1406.019.1\n",
      "49\n",
      "Column Name :  Wavelength (nm).3\n",
      "54\n",
      "Column Name :  Wavelength (nm).1\n",
      "30\n",
      "Column Name :  dec1406.022.1\n",
      "52\n",
      "Column Name :  Wavelength (nm).2\n",
      "42\n",
      "Column Name :  dec1406.016.1\n",
      "46\n"
     ]
    }
   ],
   "source": [
    "#find the duplicate columns\n",
    "duplicateColNames = getDuplicateColumns(df)\n",
    "  \n",
    "print('Duplicate Columns are :')\n",
    "for column in duplicateColNames :\n",
    "    print('Column Name : ', column)\n",
    "    print(df.columns.get_loc(column))    \n",
    "df.drop(df.columns[[42, 30,54,15 ]], axis = 1, inplace = True)\n",
    "#df.drop(df.columns[[54 ]], axis = 1, inplace = True)\n"
   ]
  },
  {
   "cell_type": "code",
   "execution_count": 21,
   "id": "2a32433c",
   "metadata": {},
   "outputs": [
    {
     "name": "stdout",
     "output_type": "stream",
     "text": [
      "Duplicate Columns are :\n",
      "Column Name :  dec1406.015.1\n",
      "Column Name :  dec1406.021.1\n",
      "Column Name :  dec1406.018.1\n",
      "Column Name :  dec1406.023.1\n",
      "Column Name :  dec1406.017.1\n",
      "Column Name :  dec1406.013.1\n",
      "Column Name :  dec1406.014.1\n",
      "Column Name :  dec1406.020.1\n",
      "Column Name :  dec1406.019.1\n",
      "Column Name :  dec1406.022.1\n",
      "Column Name :  dec1406.016.1\n"
     ]
    }
   ],
   "source": [
    "duplicateColNames = getDuplicateColumns(df)\n",
    "  \n",
    "print('Duplicate Columns are :')\n",
    "for column in duplicateColNames :\n",
    "    print('Column Name : ', column)\n"
   ]
  },
  {
   "cell_type": "code",
   "execution_count": 22,
   "id": "d476fb97",
   "metadata": {},
   "outputs": [
    {
     "name": "stdout",
     "output_type": "stream",
     "text": [
      "0       0.177659\n",
      "5       0.188933\n",
      "10      0.199063\n",
      "15      0.206710\n",
      "20      0.217003\n",
      "          ...   \n",
      "2130    0.379628\n",
      "2135    0.380012\n",
      "2140    0.380336\n",
      "2145    0.380803\n",
      "2150    0.381225\n",
      "Name: sep0407a.001, Length: 431, dtype: float64\n"
     ]
    }
   ],
   "source": [
    " print(df.iloc[:,15])\n",
    "    "
   ]
  },
  {
   "cell_type": "code",
   "execution_count": 23,
   "id": "4f6a46cb",
   "metadata": {},
   "outputs": [
    {
     "name": "stdout",
     "output_type": "stream",
     "text": [
      "      Sample ID    PYX003  PYX003.1    PYX023  PYX023.1    PYX032  PYX032.1  \\\n",
      "0         350.0  0.131657  0.087618  0.275708  0.145313  0.089592  0.064688   \n",
      "1         351.0  0.129738  0.086047  0.276169  0.143742  0.086941  0.061409   \n",
      "2         352.0  0.130491  0.086988  0.277913  0.145089  0.086887  0.060838   \n",
      "3         353.0  0.133187  0.089532  0.280517  0.148361  0.088677  0.062289   \n",
      "4         354.0  0.135313  0.090015  0.282506  0.149629  0.089442  0.063257   \n",
      "...         ...       ...       ...       ...       ...       ...       ...   \n",
      "2146     2496.0  0.487331  0.383545  0.493795  0.347329  0.287564  0.243495   \n",
      "2147     2497.0  0.487655  0.383724  0.493553  0.347556  0.287879  0.243589   \n",
      "2148     2498.0  0.488055  0.383827  0.493417  0.347759  0.288182  0.243687   \n",
      "2149     2499.0  0.488102  0.383725  0.493609  0.347503  0.288214  0.243727   \n",
      "2150     2500.0  0.488089  0.383652  0.493709  0.347179  0.288217  0.243740   \n",
      "\n",
      "        PYX042  PYX042.1    PYX108  PYX108.1    PYX110  PYX110.1    PYX112  \\\n",
      "0     0.305813  0.220657  0.278830  0.184791  0.327150  0.200775  0.147340   \n",
      "1     0.305103  0.219372  0.277498  0.184026  0.328980  0.203778  0.148931   \n",
      "2     0.306962  0.221148  0.278720  0.185317  0.331058  0.205461  0.149444   \n",
      "3     0.310445  0.225001  0.281546  0.187938  0.333293  0.206393  0.149347   \n",
      "4     0.311624  0.227165  0.281994  0.188946  0.335081  0.208856  0.150526   \n",
      "...        ...       ...       ...       ...       ...       ...       ...   \n",
      "2146  0.558391  0.449657  0.427516  0.359399  0.512594  0.431908  0.406473   \n",
      "2147  0.558484  0.449814  0.428027  0.359604  0.512956  0.432348  0.406708   \n",
      "2148  0.558575  0.450006  0.428595  0.359857  0.513365  0.432779  0.406913   \n",
      "2149  0.558579  0.449928  0.428690  0.359802  0.513881  0.432919  0.407138   \n",
      "2150  0.558515  0.449879  0.428729  0.359737  0.514417  0.433090  0.407420   \n",
      "\n",
      "      PYX112.1    PYX117    PYX119  PYX119.1  PYX190    \n",
      "0     0.057674  0.153284  0.139249  0.061875  0.050761  \n",
      "1     0.058569  0.156132  0.140096  0.062804  0.052516  \n",
      "2     0.058262  0.157491  0.140215  0.062633  0.052755  \n",
      "3     0.057279  0.158023  0.139954  0.061787  0.052042  \n",
      "4     0.057654  0.160553  0.140694  0.061783  0.053122  \n",
      "...        ...       ...       ...       ...       ...  \n",
      "2146  0.233799  0.481147  0.329751  0.177727  0.189228  \n",
      "2147  0.234291  0.481293  0.329736  0.177870  0.189662  \n",
      "2148  0.234815  0.481454  0.329730  0.177990  0.190104  \n",
      "2149  0.235038  0.481431  0.329747  0.178202  0.190727  \n",
      "2150  0.235332  0.481504  0.329792  0.178372  0.191392  \n",
      "\n",
      "[2151 rows x 19 columns]\n"
     ]
    }
   ],
   "source": [
    "print(df1)"
   ]
  },
  {
   "cell_type": "code",
   "execution_count": 24,
   "id": "eaad58d0",
   "metadata": {
    "scrolled": true
   },
   "outputs": [
    {
     "name": "stdout",
     "output_type": "stream",
     "text": [
      "      Sample ID    PYX003  PYX003.1    PYX023  PYX023.1    PYX032  PYX032.1  \\\n",
      "0         350.0  0.131657  0.087618  0.275708  0.145313  0.089592  0.064688   \n",
      "5         355.0  0.135886  0.089578  0.283661  0.150486  0.089350  0.062483   \n",
      "10        360.0  0.142336  0.092377  0.291809  0.156362  0.090872  0.062578   \n",
      "15        365.0  0.149263  0.095944  0.302041  0.164247  0.095308  0.064273   \n",
      "20        370.0  0.155940  0.100138  0.312525  0.171207  0.099990  0.066838   \n",
      "...         ...       ...       ...       ...       ...       ...       ...   \n",
      "2130     2480.0  0.484076  0.380070  0.495032  0.349714  0.285508  0.238969   \n",
      "2135     2485.0  0.485441  0.380944  0.494315  0.349372  0.285671  0.240008   \n",
      "2140     2490.0  0.485872  0.381656  0.493389  0.348601  0.286378  0.241476   \n",
      "2145     2495.0  0.487431  0.383167  0.493673  0.347348  0.287236  0.243293   \n",
      "2150     2500.0  0.488089  0.383652  0.493709  0.347179  0.288217  0.243740   \n",
      "\n",
      "        PYX042  PYX042.1    PYX108  PYX108.1    PYX110  PYX110.1    PYX112  \\\n",
      "0     0.305813  0.220657  0.278830  0.184791  0.327150  0.200775  0.147340   \n",
      "5     0.312219  0.228803  0.282195  0.189144  0.336864  0.210435  0.151196   \n",
      "10    0.321518  0.240037  0.286659  0.194328  0.347805  0.221965  0.156573   \n",
      "15    0.332129  0.251264  0.291757  0.199151  0.360446  0.234052  0.163056   \n",
      "20    0.342918  0.263044  0.297591  0.204343  0.372350  0.245638  0.169746   \n",
      "...        ...       ...       ...       ...       ...       ...       ...   \n",
      "2130  0.555813  0.447286  0.425852  0.356454  0.510971  0.430225  0.404658   \n",
      "2135  0.556610  0.448102  0.426342  0.357513  0.511759  0.430476  0.404685   \n",
      "2140  0.556703  0.449129  0.427080  0.358021  0.512551  0.431164  0.405275   \n",
      "2145  0.558347  0.449408  0.427746  0.359200  0.512650  0.431855  0.406530   \n",
      "2150  0.558515  0.449879  0.428729  0.359737  0.514417  0.433090  0.407420   \n",
      "\n",
      "      PYX112.1    PYX117    PYX119  PYX119.1  PYX190    \n",
      "0     0.057674  0.153284  0.139249  0.061875  0.050761  \n",
      "5     0.057148  0.161742  0.140688  0.061326  0.054958  \n",
      "10    0.058098  0.170815  0.144949  0.062296  0.056998  \n",
      "15    0.060182  0.180910  0.149864  0.064719  0.061679  \n",
      "20    0.062822  0.188415  0.155236  0.067094  0.066497  \n",
      "...        ...       ...       ...       ...       ...  \n",
      "2130  0.231824  0.477445  0.327832  0.175640  0.183916  \n",
      "2135  0.232728  0.478276  0.328599  0.176400  0.185816  \n",
      "2140  0.233578  0.479918  0.329122  0.176873  0.187575  \n",
      "2145  0.233912  0.481052  0.329707  0.177565  0.188791  \n",
      "2150  0.235332  0.481504  0.329792  0.178372  0.191392  \n",
      "\n",
      "[431 rows x 19 columns]\n"
     ]
    }
   ],
   "source": [
    "df1=df1[df1['Sample ID'] % 5==0]\n",
    "\n",
    "print(df1)"
   ]
  },
  {
   "cell_type": "markdown",
   "id": "895f6709",
   "metadata": {},
   "source": [
    "# feacture extraction"
   ]
  },
  {
   "cell_type": "markdown",
   "id": "9688b874",
   "metadata": {},
   "source": [
    "continuum removal"
   ]
  },
  {
   "cell_type": "code",
   "execution_count": 25,
   "id": "62374948",
   "metadata": {},
   "outputs": [
    {
     "data": {
      "text/plain": [
       "431"
      ]
     },
     "execution_count": 25,
     "metadata": {},
     "output_type": "execute_result"
    }
   ],
   "source": [
    "import peakutils\n",
    "import matplotlib.pyplot as plt\n",
    "\n",
    "x=df2.iloc[:,0].to_numpy()\n",
    "\n",
    "\n",
    "len(x)"
   ]
  },
  {
   "cell_type": "code",
   "execution_count": 180,
   "id": "65e48611",
   "metadata": {},
   "outputs": [
    {
     "name": "stdout",
     "output_type": "stream",
     "text": [
      "0\n"
     ]
    },
    {
     "data": {
      "image/png": "[encoded data removed]",
      "text/plain": [
       "<Figure size 432x288 with 1 Axes>"
      ]
     },
     "metadata": {
      "needs_background": "light"
     },
     "output_type": "display_data"
    }
   ],
   "source": [
    "feature=[]\n",
    "for j in range(1,len(df.columns)):\n",
    "    y=df.iloc[:,j].to_numpy()\n",
    "    baseline_peakutils = peakutils.baseline(y)\n",
    "    intensity_peakutils = y - baseline_peakutils\n",
    "    plt.plot(x,intensity_peakutils)\n",
    "    plt.xlabel(\"wavelength(nm)\")\n",
    "    plt.ylabel(\"reflectance\")\n",
    "    plt.title(\"continuum removed spectra of opx and cpx mixture\")\n",
    "    #feature.append(intensity_peakutils)\n",
    "print(len(feature))"
   ]
  },
  {
   "cell_type": "code",
   "execution_count": null,
   "id": "cd7a9eac",
   "metadata": {},
   "outputs": [],
   "source": []
  },
  {
   "cell_type": "code",
   "execution_count": 181,
   "id": "9fa376cf",
   "metadata": {},
   "outputs": [
    {
     "name": "stdout",
     "output_type": "stream",
     "text": [
      "0\n"
     ]
    },
    {
     "data": {
      "image/png": "[encoded data removed]",
      "text/plain": [
       "<Figure size 432x288 with 1 Axes>"
      ]
     },
     "metadata": {
      "needs_background": "light"
     },
     "output_type": "display_data"
    }
   ],
   "source": [
    "x1=df.iloc[:,0].to_numpy()\n",
    "\n",
    "for i in range(1,len(df1.columns)):\n",
    "    y=df1.iloc[:,i].to_numpy()\n",
    "    \n",
    "    baseline_peakutils = peakutils.baseline(y)\n",
    "    intensity_peakutils = y - baseline_peakutils\n",
    "    plt.plot(x,intensity_peakutils)\n",
    "    plt.xlabel(\"wavelength(nm)\")\n",
    "    plt.ylabel(\"reflectance\")\n",
    "    plt.title(\"continuum removed spectra of opx\")\n",
    "    #feature.append(intensity_peakutils)\n",
    "print(len(feature))"
   ]
  },
  {
   "cell_type": "code",
   "execution_count": 182,
   "id": "add81518",
   "metadata": {},
   "outputs": [
    {
     "name": "stdout",
     "output_type": "stream",
     "text": [
      "17\n"
     ]
    },
    {
     "data": {
      "image/png": "[encoded data removed]",
      "text/plain": [
       "<Figure size 432x288 with 1 Axes>"
      ]
     },
     "metadata": {
      "needs_background": "light"
     },
     "output_type": "display_data"
    }
   ],
   "source": [
    "x2=df2.iloc[:,0].to_numpy()\n",
    "for k in range(1,len(df2.columns)):\n",
    "    y=df2.iloc[:,k].to_numpy()\n",
    "\n",
    "    baseline_peakutils = peakutils.baseline(y)\n",
    "    intensity_peakutils = y - baseline_peakutils\n",
    "    plt.plot(x2,intensity_peakutils)\n",
    "    plt.xlabel(\"wavelength(nm)\")\n",
    "    plt.ylabel(\"reflectance\")\n",
    "    plt.title(\"continuum removed spectra of olivine\")\n",
    "    feature.append(intensity_peakutils)\n",
    "print(len(feature))"
   ]
  },
  {
   "cell_type": "code",
   "execution_count": null,
   "id": "09f4a68c",
   "metadata": {},
   "outputs": [],
   "source": [
    "# x3=df3.iloc[:,0].to_numpy()\n",
    "# for k in range(1,len(df3.columns)):\n",
    "#     y=df3.iloc[:,k].to_numpy()\n",
    "\n",
    "#     baseline_peakutils = peakutils.baseline(y)\n",
    "#     intensity_peakutils = y - baseline_peakutils\n",
    "#     plt.plot(x3,intensity_peakutils)\n",
    "#     feature.append(intensity_peakutils)"
   ]
  },
  {
   "cell_type": "code",
   "execution_count": 183,
   "id": "12a57110",
   "metadata": {},
   "outputs": [
    {
     "name": "stdout",
     "output_type": "stream",
     "text": [
      "17\n"
     ]
    },
    {
     "data": {
      "image/png": "[encoded data removed]",
      "text/plain": [
       "<Figure size 432x288 with 1 Axes>"
      ]
     },
     "metadata": {
      "needs_background": "light"
     },
     "output_type": "display_data"
    }
   ],
   "source": [
    "x4=df4.iloc[:,0].to_numpy()\n",
    "for r in range(1,len(df4.columns)):\n",
    "    y=df4.iloc[:,r].to_numpy()\n",
    "\n",
    "    baseline_peakutils = peakutils.baseline(y)\n",
    "    intensity_peakutils = y - baseline_peakutils\n",
    "    plt.plot(x1,intensity_peakutils)\n",
    "    plt.xlabel(\"wavelength(nm)\")\n",
    "    plt.ylabel(\"reflectance\")\n",
    "    plt.title(\"continuum removed spectra of ol and opx\")\n",
    "    #feature.append(intensity_peakutils)\n",
    "print(len(feature))"
   ]
  },
  {
   "cell_type": "code",
   "execution_count": null,
   "id": "3c6fa9c2",
   "metadata": {},
   "outputs": [],
   "source": [
    "from sklearn.feature_selection import VarianceThreshold\n",
    "var_thres=VarianceThreshold(threshold=0)\n",
    "var_thres.fit()\n"
   ]
  },
  {
   "cell_type": "code",
   "execution_count": null,
   "id": "18a90e6e",
   "metadata": {},
   "outputs": [],
   "source": [
    "# constant_columns=[column for column in df_f.columns \n",
    "#                  if column not in df_f.columns[var_thres.get_support()]]\n",
    "# print(len(constant_columns))"
   ]
  },
  {
   "cell_type": "code",
   "execution_count": null,
   "id": "2963ff62",
   "metadata": {},
   "outputs": [],
   "source": [
    "# print(constant_columns)    "
   ]
  },
  {
   "cell_type": "code",
   "execution_count": 35,
   "id": "e0436dbf",
   "metadata": {},
   "outputs": [
    {
     "data": {
      "text/html": [
       "<div>\n",
       "<style scoped>\n",
       "    .dataframe tbody tr th:only-of-type {\n",
       "        vertical-align: middle;\n",
       "    }\n",
       "\n",
       "    .dataframe tbody tr th {\n",
       "        vertical-align: top;\n",
       "    }\n",
       "\n",
       "    .dataframe thead th {\n",
       "        text-align: right;\n",
       "    }\n",
       "</style>\n",
       "<table border=\"1\" class=\"dataframe\">\n",
       "  <thead>\n",
       "    <tr style=\"text-align: right;\">\n",
       "      <th></th>\n",
       "      <th>350.0</th>\n",
       "      <th>355.0</th>\n",
       "      <th>360.0</th>\n",
       "      <th>365.0</th>\n",
       "      <th>370.0</th>\n",
       "      <th>375.0</th>\n",
       "      <th>380.0</th>\n",
       "      <th>385.0</th>\n",
       "      <th>390.0</th>\n",
       "      <th>395.0</th>\n",
       "      <th>...</th>\n",
       "      <th>2455.0</th>\n",
       "      <th>2460.0</th>\n",
       "      <th>2465.0</th>\n",
       "      <th>2470.0</th>\n",
       "      <th>2475.0</th>\n",
       "      <th>2480.0</th>\n",
       "      <th>2485.0</th>\n",
       "      <th>2490.0</th>\n",
       "      <th>2495.0</th>\n",
       "      <th>2500.0</th>\n",
       "    </tr>\n",
       "  </thead>\n",
       "  <tbody>\n",
       "    <tr>\n",
       "      <th>0</th>\n",
       "      <td>-0.005005</td>\n",
       "      <td>0.002653</td>\n",
       "      <td>0.008674</td>\n",
       "      <td>0.019440</td>\n",
       "      <td>0.030177</td>\n",
       "      <td>0.039745</td>\n",
       "      <td>0.049932</td>\n",
       "      <td>0.060565</td>\n",
       "      <td>0.071066</td>\n",
       "      <td>0.080385</td>\n",
       "      <td>...</td>\n",
       "      <td>0.036239</td>\n",
       "      <td>0.035472</td>\n",
       "      <td>0.034593</td>\n",
       "      <td>0.034057</td>\n",
       "      <td>0.033725</td>\n",
       "      <td>0.033180</td>\n",
       "      <td>0.032302</td>\n",
       "      <td>0.032075</td>\n",
       "      <td>0.030039</td>\n",
       "      <td>0.029633</td>\n",
       "    </tr>\n",
       "    <tr>\n",
       "      <th>1</th>\n",
       "      <td>-0.006821</td>\n",
       "      <td>0.002877</td>\n",
       "      <td>0.010112</td>\n",
       "      <td>0.020082</td>\n",
       "      <td>0.031662</td>\n",
       "      <td>0.041127</td>\n",
       "      <td>0.050633</td>\n",
       "      <td>0.061295</td>\n",
       "      <td>0.071519</td>\n",
       "      <td>0.080746</td>\n",
       "      <td>...</td>\n",
       "      <td>0.034345</td>\n",
       "      <td>0.033038</td>\n",
       "      <td>0.032215</td>\n",
       "      <td>0.031786</td>\n",
       "      <td>0.031554</td>\n",
       "      <td>0.030685</td>\n",
       "      <td>0.029506</td>\n",
       "      <td>0.028876</td>\n",
       "      <td>0.027779</td>\n",
       "      <td>0.027120</td>\n",
       "    </tr>\n",
       "    <tr>\n",
       "      <th>2</th>\n",
       "      <td>-0.005705</td>\n",
       "      <td>0.002346</td>\n",
       "      <td>0.008985</td>\n",
       "      <td>0.019661</td>\n",
       "      <td>0.030257</td>\n",
       "      <td>0.039441</td>\n",
       "      <td>0.048660</td>\n",
       "      <td>0.058970</td>\n",
       "      <td>0.068739</td>\n",
       "      <td>0.077443</td>\n",
       "      <td>...</td>\n",
       "      <td>0.030364</td>\n",
       "      <td>0.028983</td>\n",
       "      <td>0.028165</td>\n",
       "      <td>0.027860</td>\n",
       "      <td>0.027271</td>\n",
       "      <td>0.027406</td>\n",
       "      <td>0.026562</td>\n",
       "      <td>0.025272</td>\n",
       "      <td>0.024892</td>\n",
       "      <td>0.023916</td>\n",
       "    </tr>\n",
       "    <tr>\n",
       "      <th>3</th>\n",
       "      <td>-0.006219</td>\n",
       "      <td>0.002363</td>\n",
       "      <td>0.009083</td>\n",
       "      <td>0.019256</td>\n",
       "      <td>0.029226</td>\n",
       "      <td>0.038378</td>\n",
       "      <td>0.047617</td>\n",
       "      <td>0.057228</td>\n",
       "      <td>0.067034</td>\n",
       "      <td>0.075533</td>\n",
       "      <td>...</td>\n",
       "      <td>0.026483</td>\n",
       "      <td>0.025541</td>\n",
       "      <td>0.025529</td>\n",
       "      <td>0.025249</td>\n",
       "      <td>0.025519</td>\n",
       "      <td>0.025038</td>\n",
       "      <td>0.023688</td>\n",
       "      <td>0.023529</td>\n",
       "      <td>0.022165</td>\n",
       "      <td>0.022385</td>\n",
       "    </tr>\n",
       "    <tr>\n",
       "      <th>4</th>\n",
       "      <td>-0.006574</td>\n",
       "      <td>0.002358</td>\n",
       "      <td>0.009838</td>\n",
       "      <td>0.019488</td>\n",
       "      <td>0.029743</td>\n",
       "      <td>0.038638</td>\n",
       "      <td>0.047834</td>\n",
       "      <td>0.057628</td>\n",
       "      <td>0.067179</td>\n",
       "      <td>0.075568</td>\n",
       "      <td>...</td>\n",
       "      <td>0.024941</td>\n",
       "      <td>0.023907</td>\n",
       "      <td>0.023585</td>\n",
       "      <td>0.023316</td>\n",
       "      <td>0.023292</td>\n",
       "      <td>0.022516</td>\n",
       "      <td>0.021959</td>\n",
       "      <td>0.021369</td>\n",
       "      <td>0.020008</td>\n",
       "      <td>0.019688</td>\n",
       "    </tr>\n",
       "    <tr>\n",
       "      <th>...</th>\n",
       "      <td>...</td>\n",
       "      <td>...</td>\n",
       "      <td>...</td>\n",
       "      <td>...</td>\n",
       "      <td>...</td>\n",
       "      <td>...</td>\n",
       "      <td>...</td>\n",
       "      <td>...</td>\n",
       "      <td>...</td>\n",
       "      <td>...</td>\n",
       "      <td>...</td>\n",
       "      <td>...</td>\n",
       "      <td>...</td>\n",
       "      <td>...</td>\n",
       "      <td>...</td>\n",
       "      <td>...</td>\n",
       "      <td>...</td>\n",
       "      <td>...</td>\n",
       "      <td>...</td>\n",
       "      <td>...</td>\n",
       "      <td>...</td>\n",
       "    </tr>\n",
       "    <tr>\n",
       "      <th>97</th>\n",
       "      <td>-0.012425</td>\n",
       "      <td>-0.000599</td>\n",
       "      <td>0.013103</td>\n",
       "      <td>0.026001</td>\n",
       "      <td>0.039347</td>\n",
       "      <td>0.049481</td>\n",
       "      <td>0.060719</td>\n",
       "      <td>0.070862</td>\n",
       "      <td>0.080850</td>\n",
       "      <td>0.090186</td>\n",
       "      <td>...</td>\n",
       "      <td>0.032456</td>\n",
       "      <td>0.030960</td>\n",
       "      <td>0.029532</td>\n",
       "      <td>0.028233</td>\n",
       "      <td>0.026844</td>\n",
       "      <td>0.025561</td>\n",
       "      <td>0.024502</td>\n",
       "      <td>0.023094</td>\n",
       "      <td>0.021855</td>\n",
       "      <td>0.020318</td>\n",
       "    </tr>\n",
       "    <tr>\n",
       "      <th>98</th>\n",
       "      <td>-0.015162</td>\n",
       "      <td>-0.002964</td>\n",
       "      <td>0.010856</td>\n",
       "      <td>0.024897</td>\n",
       "      <td>0.039126</td>\n",
       "      <td>0.049750</td>\n",
       "      <td>0.061151</td>\n",
       "      <td>0.071878</td>\n",
       "      <td>0.082261</td>\n",
       "      <td>0.092567</td>\n",
       "      <td>...</td>\n",
       "      <td>0.043516</td>\n",
       "      <td>0.041871</td>\n",
       "      <td>0.040027</td>\n",
       "      <td>0.038877</td>\n",
       "      <td>0.037712</td>\n",
       "      <td>0.036277</td>\n",
       "      <td>0.034428</td>\n",
       "      <td>0.033089</td>\n",
       "      <td>0.031967</td>\n",
       "      <td>0.031058</td>\n",
       "    </tr>\n",
       "    <tr>\n",
       "      <th>99</th>\n",
       "      <td>-0.015276</td>\n",
       "      <td>-0.003690</td>\n",
       "      <td>0.010138</td>\n",
       "      <td>0.024751</td>\n",
       "      <td>0.038308</td>\n",
       "      <td>0.049488</td>\n",
       "      <td>0.060726</td>\n",
       "      <td>0.072005</td>\n",
       "      <td>0.082762</td>\n",
       "      <td>0.093542</td>\n",
       "      <td>...</td>\n",
       "      <td>0.053071</td>\n",
       "      <td>0.051404</td>\n",
       "      <td>0.050104</td>\n",
       "      <td>0.048631</td>\n",
       "      <td>0.047159</td>\n",
       "      <td>0.045719</td>\n",
       "      <td>0.044013</td>\n",
       "      <td>0.041595</td>\n",
       "      <td>0.040038</td>\n",
       "      <td>0.038521</td>\n",
       "    </tr>\n",
       "    <tr>\n",
       "      <th>100</th>\n",
       "      <td>-0.012723</td>\n",
       "      <td>-0.001381</td>\n",
       "      <td>0.012564</td>\n",
       "      <td>0.027637</td>\n",
       "      <td>0.041509</td>\n",
       "      <td>0.053273</td>\n",
       "      <td>0.065347</td>\n",
       "      <td>0.076522</td>\n",
       "      <td>0.087821</td>\n",
       "      <td>0.099053</td>\n",
       "      <td>...</td>\n",
       "      <td>0.062392</td>\n",
       "      <td>0.060619</td>\n",
       "      <td>0.058799</td>\n",
       "      <td>0.057371</td>\n",
       "      <td>0.055806</td>\n",
       "      <td>0.054259</td>\n",
       "      <td>0.052807</td>\n",
       "      <td>0.050954</td>\n",
       "      <td>0.049558</td>\n",
       "      <td>0.048256</td>\n",
       "    </tr>\n",
       "    <tr>\n",
       "      <th>101</th>\n",
       "      <td>-0.013811</td>\n",
       "      <td>-0.002629</td>\n",
       "      <td>0.011113</td>\n",
       "      <td>0.025171</td>\n",
       "      <td>0.039274</td>\n",
       "      <td>0.050347</td>\n",
       "      <td>0.063284</td>\n",
       "      <td>0.074294</td>\n",
       "      <td>0.086170</td>\n",
       "      <td>0.098018</td>\n",
       "      <td>...</td>\n",
       "      <td>0.073174</td>\n",
       "      <td>0.070883</td>\n",
       "      <td>0.069126</td>\n",
       "      <td>0.068503</td>\n",
       "      <td>0.066446</td>\n",
       "      <td>0.065299</td>\n",
       "      <td>0.063750</td>\n",
       "      <td>0.061942</td>\n",
       "      <td>0.060124</td>\n",
       "      <td>0.059608</td>\n",
       "    </tr>\n",
       "  </tbody>\n",
       "</table>\n",
       "<p>102 rows × 431 columns</p>\n",
       "</div>"
      ],
      "text/plain": [
       "       350.0     355.0     360.0     365.0     370.0     375.0     380.0   \\\n",
       "0   -0.005005  0.002653  0.008674  0.019440  0.030177  0.039745  0.049932   \n",
       "1   -0.006821  0.002877  0.010112  0.020082  0.031662  0.041127  0.050633   \n",
       "2   -0.005705  0.002346  0.008985  0.019661  0.030257  0.039441  0.048660   \n",
       "3   -0.006219  0.002363  0.009083  0.019256  0.029226  0.038378  0.047617   \n",
       "4   -0.006574  0.002358  0.009838  0.019488  0.029743  0.038638  0.047834   \n",
       "..        ...       ...       ...       ...       ...       ...       ...   \n",
       "97  -0.012425 -0.000599  0.013103  0.026001  0.039347  0.049481  0.060719   \n",
       "98  -0.015162 -0.002964  0.010856  0.024897  0.039126  0.049750  0.061151   \n",
       "99  -0.015276 -0.003690  0.010138  0.024751  0.038308  0.049488  0.060726   \n",
       "100 -0.012723 -0.001381  0.012564  0.027637  0.041509  0.053273  0.065347   \n",
       "101 -0.013811 -0.002629  0.011113  0.025171  0.039274  0.050347  0.063284   \n",
       "\n",
       "       385.0     390.0     395.0   ...    2455.0    2460.0    2465.0  \\\n",
       "0    0.060565  0.071066  0.080385  ...  0.036239  0.035472  0.034593   \n",
       "1    0.061295  0.071519  0.080746  ...  0.034345  0.033038  0.032215   \n",
       "2    0.058970  0.068739  0.077443  ...  0.030364  0.028983  0.028165   \n",
       "3    0.057228  0.067034  0.075533  ...  0.026483  0.025541  0.025529   \n",
       "4    0.057628  0.067179  0.075568  ...  0.024941  0.023907  0.023585   \n",
       "..        ...       ...       ...  ...       ...       ...       ...   \n",
       "97   0.070862  0.080850  0.090186  ...  0.032456  0.030960  0.029532   \n",
       "98   0.071878  0.082261  0.092567  ...  0.043516  0.041871  0.040027   \n",
       "99   0.072005  0.082762  0.093542  ...  0.053071  0.051404  0.050104   \n",
       "100  0.076522  0.087821  0.099053  ...  0.062392  0.060619  0.058799   \n",
       "101  0.074294  0.086170  0.098018  ...  0.073174  0.070883  0.069126   \n",
       "\n",
       "       2470.0    2475.0    2480.0    2485.0    2490.0    2495.0    2500.0  \n",
       "0    0.034057  0.033725  0.033180  0.032302  0.032075  0.030039  0.029633  \n",
       "1    0.031786  0.031554  0.030685  0.029506  0.028876  0.027779  0.027120  \n",
       "2    0.027860  0.027271  0.027406  0.026562  0.025272  0.024892  0.023916  \n",
       "3    0.025249  0.025519  0.025038  0.023688  0.023529  0.022165  0.022385  \n",
       "4    0.023316  0.023292  0.022516  0.021959  0.021369  0.020008  0.019688  \n",
       "..        ...       ...       ...       ...       ...       ...       ...  \n",
       "97   0.028233  0.026844  0.025561  0.024502  0.023094  0.021855  0.020318  \n",
       "98   0.038877  0.037712  0.036277  0.034428  0.033089  0.031967  0.031058  \n",
       "99   0.048631  0.047159  0.045719  0.044013  0.041595  0.040038  0.038521  \n",
       "100  0.057371  0.055806  0.054259  0.052807  0.050954  0.049558  0.048256  \n",
       "101  0.068503  0.066446  0.065299  0.063750  0.061942  0.060124  0.059608  \n",
       "\n",
       "[102 rows x 431 columns]"
      ]
     },
     "execution_count": 35,
     "metadata": {},
     "output_type": "execute_result"
    }
   ],
   "source": [
    "df_f = pd.DataFrame(np.asarray(feature),columns=x)\n",
    "df_f"
   ]
  },
  {
   "cell_type": "code",
   "execution_count": null,
   "id": "9f6fe36f",
   "metadata": {},
   "outputs": [],
   "source": [
    "# from sklearn.decomposition import PCA\n",
    "# pca = PCA(n_components=91)\n",
    "# pca.fit(np.asarray(feature).T)\n",
    "# x_pca=pca.transform(np.asarray(feature).T)"
   ]
  },
  {
   "cell_type": "code",
   "execution_count": 43,
   "id": "d16ffacb",
   "metadata": {},
   "outputs": [
    {
     "data": {
      "image/png": "[encoded data removed]",
      "text/plain": [
       "<Figure size 432x288 with 1 Axes>"
      ]
     },
     "metadata": {
      "needs_background": "light"
     },
     "output_type": "display_data"
    }
   ],
   "source": [
    "from sklearn.decomposition import PCA\n",
    "\n",
    "pca=PCA()\n",
    "principalComponents= pca.fit_transform(df_f)\n",
    "plt.figure()\n",
    "plt.plot(np.cumsum(pca.explained_variance_ratio_))\n",
    "plt.xlabel('Number of components')\n",
    "plt.ylabel('Variance%')\n",
    "plt.title('Explain Variance')\n",
    "plt.xlim([1,10])\n",
    "plt.ylim([0.95,1])\n",
    "plt.show()"
   ]
  },
  {
   "cell_type": "code",
   "execution_count": 45,
   "id": "4f81e1ea",
   "metadata": {},
   "outputs": [],
   "source": [
    "pca=PCA(n_components = 6)\n",
    "new_data=pca.fit_transform(df_f)\n",
    "\n"
   ]
  },
  {
   "cell_type": "code",
   "execution_count": 47,
   "id": "c779f9ac",
   "metadata": {},
   "outputs": [],
   "source": [
    "principal_x=pd.DataFrame(new_data,columns=[f\"column{i}\" for i in range(6)])"
   ]
  },
  {
   "cell_type": "code",
   "execution_count": 48,
   "id": "6f9b49b2",
   "metadata": {
    "scrolled": true
   },
   "outputs": [
    {
     "data": {
      "text/html": [
       "<div>\n",
       "<style scoped>\n",
       "    .dataframe tbody tr th:only-of-type {\n",
       "        vertical-align: middle;\n",
       "    }\n",
       "\n",
       "    .dataframe tbody tr th {\n",
       "        vertical-align: top;\n",
       "    }\n",
       "\n",
       "    .dataframe thead th {\n",
       "        text-align: right;\n",
       "    }\n",
       "</style>\n",
       "<table border=\"1\" class=\"dataframe\">\n",
       "  <thead>\n",
       "    <tr style=\"text-align: right;\">\n",
       "      <th></th>\n",
       "      <th>column0</th>\n",
       "      <th>column1</th>\n",
       "      <th>column2</th>\n",
       "      <th>column3</th>\n",
       "      <th>column4</th>\n",
       "      <th>column5</th>\n",
       "    </tr>\n",
       "  </thead>\n",
       "  <tbody>\n",
       "    <tr>\n",
       "      <th>0</th>\n",
       "      <td>1.325048</td>\n",
       "      <td>-0.094674</td>\n",
       "      <td>-0.024028</td>\n",
       "      <td>-0.182044</td>\n",
       "      <td>0.001708</td>\n",
       "      <td>-0.053927</td>\n",
       "    </tr>\n",
       "    <tr>\n",
       "      <th>1</th>\n",
       "      <td>1.214466</td>\n",
       "      <td>-0.098498</td>\n",
       "      <td>-0.048988</td>\n",
       "      <td>-0.160720</td>\n",
       "      <td>0.003496</td>\n",
       "      <td>-0.053179</td>\n",
       "    </tr>\n",
       "    <tr>\n",
       "      <th>2</th>\n",
       "      <td>0.971702</td>\n",
       "      <td>-0.117263</td>\n",
       "      <td>-0.065460</td>\n",
       "      <td>-0.149978</td>\n",
       "      <td>0.008844</td>\n",
       "      <td>-0.055921</td>\n",
       "    </tr>\n",
       "    <tr>\n",
       "      <th>3</th>\n",
       "      <td>0.732942</td>\n",
       "      <td>-0.114658</td>\n",
       "      <td>-0.091030</td>\n",
       "      <td>-0.144277</td>\n",
       "      <td>0.008082</td>\n",
       "      <td>-0.050984</td>\n",
       "    </tr>\n",
       "    <tr>\n",
       "      <th>4</th>\n",
       "      <td>0.621449</td>\n",
       "      <td>-0.105945</td>\n",
       "      <td>-0.110206</td>\n",
       "      <td>-0.134524</td>\n",
       "      <td>0.009961</td>\n",
       "      <td>-0.052986</td>\n",
       "    </tr>\n",
       "    <tr>\n",
       "      <th>...</th>\n",
       "      <td>...</td>\n",
       "      <td>...</td>\n",
       "      <td>...</td>\n",
       "      <td>...</td>\n",
       "      <td>...</td>\n",
       "      <td>...</td>\n",
       "    </tr>\n",
       "    <tr>\n",
       "      <th>97</th>\n",
       "      <td>0.964633</td>\n",
       "      <td>0.118273</td>\n",
       "      <td>-0.134706</td>\n",
       "      <td>0.120512</td>\n",
       "      <td>-0.070609</td>\n",
       "      <td>-0.123279</td>\n",
       "    </tr>\n",
       "    <tr>\n",
       "      <th>98</th>\n",
       "      <td>1.447930</td>\n",
       "      <td>0.045308</td>\n",
       "      <td>-0.096934</td>\n",
       "      <td>0.100773</td>\n",
       "      <td>-0.053691</td>\n",
       "      <td>-0.087209</td>\n",
       "    </tr>\n",
       "    <tr>\n",
       "      <th>99</th>\n",
       "      <td>1.806975</td>\n",
       "      <td>-0.033133</td>\n",
       "      <td>-0.057687</td>\n",
       "      <td>0.072994</td>\n",
       "      <td>-0.031874</td>\n",
       "      <td>-0.037194</td>\n",
       "    </tr>\n",
       "    <tr>\n",
       "      <th>100</th>\n",
       "      <td>2.221109</td>\n",
       "      <td>-0.080047</td>\n",
       "      <td>-0.020531</td>\n",
       "      <td>0.033386</td>\n",
       "      <td>-0.016933</td>\n",
       "      <td>0.030682</td>\n",
       "    </tr>\n",
       "    <tr>\n",
       "      <th>101</th>\n",
       "      <td>2.636505</td>\n",
       "      <td>-0.206677</td>\n",
       "      <td>0.035400</td>\n",
       "      <td>-0.027868</td>\n",
       "      <td>0.015628</td>\n",
       "      <td>0.131486</td>\n",
       "    </tr>\n",
       "  </tbody>\n",
       "</table>\n",
       "<p>102 rows × 6 columns</p>\n",
       "</div>"
      ],
      "text/plain": [
       "      column0   column1   column2   column3   column4   column5\n",
       "0    1.325048 -0.094674 -0.024028 -0.182044  0.001708 -0.053927\n",
       "1    1.214466 -0.098498 -0.048988 -0.160720  0.003496 -0.053179\n",
       "2    0.971702 -0.117263 -0.065460 -0.149978  0.008844 -0.055921\n",
       "3    0.732942 -0.114658 -0.091030 -0.144277  0.008082 -0.050984\n",
       "4    0.621449 -0.105945 -0.110206 -0.134524  0.009961 -0.052986\n",
       "..        ...       ...       ...       ...       ...       ...\n",
       "97   0.964633  0.118273 -0.134706  0.120512 -0.070609 -0.123279\n",
       "98   1.447930  0.045308 -0.096934  0.100773 -0.053691 -0.087209\n",
       "99   1.806975 -0.033133 -0.057687  0.072994 -0.031874 -0.037194\n",
       "100  2.221109 -0.080047 -0.020531  0.033386 -0.016933  0.030682\n",
       "101  2.636505 -0.206677  0.035400 -0.027868  0.015628  0.131486\n",
       "\n",
       "[102 rows x 6 columns]"
      ]
     },
     "execution_count": 48,
     "metadata": {},
     "output_type": "execute_result"
    }
   ],
   "source": [
    "principal_x"
   ]
  },
  {
   "cell_type": "code",
   "execution_count": 159,
   "id": "5db45a6f",
   "metadata": {},
   "outputs": [],
   "source": [
    "principal_x=principal_x.to_numpy()\n"
   ]
  },
  {
   "cell_type": "code",
   "execution_count": 160,
   "id": "d697835f",
   "metadata": {},
   "outputs": [
    {
     "data": {
      "text/plain": [
       "numpy.ndarray"
      ]
     },
     "execution_count": 160,
     "metadata": {},
     "output_type": "execute_result"
    }
   ],
   "source": [
    "type(principal_x)"
   ]
  },
  {
   "cell_type": "markdown",
   "id": "d9027e16",
   "metadata": {},
   "source": [
    "using mlknn"
   ]
  },
  {
   "cell_type": "code",
   "execution_count": 88,
   "id": "ee18b38f",
   "metadata": {},
   "outputs": [],
   "source": [
    "y=[[0,1,1] for i in range(0,56)]\n",
    "len(y)\n",
    "for j in range(56,74):\n",
    "    y.append([0,1,0])\n",
    "for k in range(74,91):\n",
    "    y.append([1,0,0])\n",
    "for l in range(91,102):\n",
    "    y.append([1,1,0])\n",
    "\n",
    "Y=y\n",
    "len(Y)\n",
    "Y=np.asarray(Y)\n"
   ]
  },
  {
   "cell_type": "code",
   "execution_count": 92,
   "id": "718145aa",
   "metadata": {},
   "outputs": [
    {
     "data": {
      "text/plain": [
       "(102, 3)"
      ]
     },
     "execution_count": 92,
     "metadata": {},
     "output_type": "execute_result"
    }
   ],
   "source": [
    "Y.shape"
   ]
  },
  {
   "cell_type": "code",
   "execution_count": 67,
   "id": "afbbdfac",
   "metadata": {},
   "outputs": [],
   "source": [
    "from skmultilearn.adapt import MLkNN\n",
    "from sklearn.model_selection import train_test_split\n"
   ]
  },
  {
   "cell_type": "code",
   "execution_count": 93,
   "id": "c54e5a44",
   "metadata": {},
   "outputs": [],
   "source": [
    "x_train,x_test,y_train,y_test=train_test_split(principal_x,Y,test_size=0.20,random_state=17)"
   ]
  },
  {
   "cell_type": "code",
   "execution_count": 99,
   "id": "910a4989",
   "metadata": {},
   "outputs": [
    {
     "name": "stderr",
     "output_type": "stream",
     "text": [
      "c:\\users\\admin\\appdata\\local\\programs\\python\\python39\\lib\\site-packages\\sklearn\\utils\\validation.py:70: FutureWarning: Pass n_neighbors=1 as keyword args. From version 1.0 (renaming of 0.25) passing these as positional arguments will result in an error\n",
      "  warnings.warn(f\"Pass {args_msg} as keyword args. From version \"\n",
      "c:\\users\\admin\\appdata\\local\\programs\\python\\python39\\lib\\site-packages\\sklearn\\utils\\validation.py:70: FutureWarning: Pass n_neighbors=1 as keyword args. From version 1.0 (renaming of 0.25) passing these as positional arguments will result in an error\n",
      "  warnings.warn(f\"Pass {args_msg} as keyword args. From version \"\n",
      "c:\\users\\admin\\appdata\\local\\programs\\python\\python39\\lib\\site-packages\\sklearn\\utils\\validation.py:70: FutureWarning: Pass n_neighbors=1 as keyword args. From version 1.0 (renaming of 0.25) passing these as positional arguments will result in an error\n",
      "  warnings.warn(f\"Pass {args_msg} as keyword args. From version \"\n",
      "c:\\users\\admin\\appdata\\local\\programs\\python\\python39\\lib\\site-packages\\sklearn\\utils\\validation.py:70: FutureWarning: Pass n_neighbors=1 as keyword args. From version 1.0 (renaming of 0.25) passing these as positional arguments will result in an error\n",
      "  warnings.warn(f\"Pass {args_msg} as keyword args. From version \"\n",
      "c:\\users\\admin\\appdata\\local\\programs\\python\\python39\\lib\\site-packages\\sklearn\\utils\\validation.py:70: FutureWarning: Pass n_neighbors=1 as keyword args. From version 1.0 (renaming of 0.25) passing these as positional arguments will result in an error\n",
      "  warnings.warn(f\"Pass {args_msg} as keyword args. From version \"\n",
      "c:\\users\\admin\\appdata\\local\\programs\\python\\python39\\lib\\site-packages\\sklearn\\utils\\validation.py:70: FutureWarning: Pass n_neighbors=1 as keyword args. From version 1.0 (renaming of 0.25) passing these as positional arguments will result in an error\n",
      "  warnings.warn(f\"Pass {args_msg} as keyword args. From version \"\n",
      "c:\\users\\admin\\appdata\\local\\programs\\python\\python39\\lib\\site-packages\\sklearn\\utils\\validation.py:70: FutureWarning: Pass n_neighbors=1 as keyword args. From version 1.0 (renaming of 0.25) passing these as positional arguments will result in an error\n",
      "  warnings.warn(f\"Pass {args_msg} as keyword args. From version \"\n",
      "c:\\users\\admin\\appdata\\local\\programs\\python\\python39\\lib\\site-packages\\sklearn\\utils\\validation.py:70: FutureWarning: Pass n_neighbors=1 as keyword args. From version 1.0 (renaming of 0.25) passing these as positional arguments will result in an error\n",
      "  warnings.warn(f\"Pass {args_msg} as keyword args. From version \"\n",
      "c:\\users\\admin\\appdata\\local\\programs\\python\\python39\\lib\\site-packages\\sklearn\\utils\\validation.py:70: FutureWarning: Pass n_neighbors=1 as keyword args. From version 1.0 (renaming of 0.25) passing these as positional arguments will result in an error\n",
      "  warnings.warn(f\"Pass {args_msg} as keyword args. From version \"\n",
      "c:\\users\\admin\\appdata\\local\\programs\\python\\python39\\lib\\site-packages\\sklearn\\utils\\validation.py:70: FutureWarning: Pass n_neighbors=1 as keyword args. From version 1.0 (renaming of 0.25) passing these as positional arguments will result in an error\n",
      "  warnings.warn(f\"Pass {args_msg} as keyword args. From version \"\n",
      "c:\\users\\admin\\appdata\\local\\programs\\python\\python39\\lib\\site-packages\\sklearn\\utils\\validation.py:70: FutureWarning: Pass n_neighbors=1 as keyword args. From version 1.0 (renaming of 0.25) passing these as positional arguments will result in an error\n",
      "  warnings.warn(f\"Pass {args_msg} as keyword args. From version \"\n",
      "c:\\users\\admin\\appdata\\local\\programs\\python\\python39\\lib\\site-packages\\sklearn\\utils\\validation.py:70: FutureWarning: Pass n_neighbors=1 as keyword args. From version 1.0 (renaming of 0.25) passing these as positional arguments will result in an error\n",
      "  warnings.warn(f\"Pass {args_msg} as keyword args. From version \"\n",
      "c:\\users\\admin\\appdata\\local\\programs\\python\\python39\\lib\\site-packages\\sklearn\\utils\\validation.py:70: FutureWarning: Pass n_neighbors=1 as keyword args. From version 1.0 (renaming of 0.25) passing these as positional arguments will result in an error\n",
      "  warnings.warn(f\"Pass {args_msg} as keyword args. From version \"\n",
      "c:\\users\\admin\\appdata\\local\\programs\\python\\python39\\lib\\site-packages\\sklearn\\utils\\validation.py:70: FutureWarning: Pass n_neighbors=1 as keyword args. From version 1.0 (renaming of 0.25) passing these as positional arguments will result in an error\n",
      "  warnings.warn(f\"Pass {args_msg} as keyword args. From version \"\n",
      "c:\\users\\admin\\appdata\\local\\programs\\python\\python39\\lib\\site-packages\\sklearn\\utils\\validation.py:70: FutureWarning: Pass n_neighbors=1 as keyword args. From version 1.0 (renaming of 0.25) passing these as positional arguments will result in an error\n",
      "  warnings.warn(f\"Pass {args_msg} as keyword args. From version \"\n",
      "c:\\users\\admin\\appdata\\local\\programs\\python\\python39\\lib\\site-packages\\sklearn\\utils\\validation.py:70: FutureWarning: Pass n_neighbors=2 as keyword args. From version 1.0 (renaming of 0.25) passing these as positional arguments will result in an error\n",
      "  warnings.warn(f\"Pass {args_msg} as keyword args. From version \"\n",
      "c:\\users\\admin\\appdata\\local\\programs\\python\\python39\\lib\\site-packages\\sklearn\\utils\\validation.py:70: FutureWarning: Pass n_neighbors=2 as keyword args. From version 1.0 (renaming of 0.25) passing these as positional arguments will result in an error\n",
      "  warnings.warn(f\"Pass {args_msg} as keyword args. From version \"\n",
      "c:\\users\\admin\\appdata\\local\\programs\\python\\python39\\lib\\site-packages\\sklearn\\utils\\validation.py:70: FutureWarning: Pass n_neighbors=2 as keyword args. From version 1.0 (renaming of 0.25) passing these as positional arguments will result in an error\n",
      "  warnings.warn(f\"Pass {args_msg} as keyword args. From version \"\n",
      "c:\\users\\admin\\appdata\\local\\programs\\python\\python39\\lib\\site-packages\\sklearn\\utils\\validation.py:70: FutureWarning: Pass n_neighbors=2 as keyword args. From version 1.0 (renaming of 0.25) passing these as positional arguments will result in an error\n",
      "  warnings.warn(f\"Pass {args_msg} as keyword args. From version \"\n",
      "c:\\users\\admin\\appdata\\local\\programs\\python\\python39\\lib\\site-packages\\sklearn\\utils\\validation.py:70: FutureWarning: Pass n_neighbors=2 as keyword args. From version 1.0 (renaming of 0.25) passing these as positional arguments will result in an error\n",
      "  warnings.warn(f\"Pass {args_msg} as keyword args. From version \"\n",
      "c:\\users\\admin\\appdata\\local\\programs\\python\\python39\\lib\\site-packages\\sklearn\\utils\\validation.py:70: FutureWarning: Pass n_neighbors=2 as keyword args. From version 1.0 (renaming of 0.25) passing these as positional arguments will result in an error\n",
      "  warnings.warn(f\"Pass {args_msg} as keyword args. From version \"\n",
      "c:\\users\\admin\\appdata\\local\\programs\\python\\python39\\lib\\site-packages\\sklearn\\utils\\validation.py:70: FutureWarning: Pass n_neighbors=2 as keyword args. From version 1.0 (renaming of 0.25) passing these as positional arguments will result in an error\n",
      "  warnings.warn(f\"Pass {args_msg} as keyword args. From version \"\n",
      "c:\\users\\admin\\appdata\\local\\programs\\python\\python39\\lib\\site-packages\\sklearn\\utils\\validation.py:70: FutureWarning: Pass n_neighbors=2 as keyword args. From version 1.0 (renaming of 0.25) passing these as positional arguments will result in an error\n",
      "  warnings.warn(f\"Pass {args_msg} as keyword args. From version \"\n",
      "c:\\users\\admin\\appdata\\local\\programs\\python\\python39\\lib\\site-packages\\sklearn\\utils\\validation.py:70: FutureWarning: Pass n_neighbors=2 as keyword args. From version 1.0 (renaming of 0.25) passing these as positional arguments will result in an error\n",
      "  warnings.warn(f\"Pass {args_msg} as keyword args. From version \"\n",
      "c:\\users\\admin\\appdata\\local\\programs\\python\\python39\\lib\\site-packages\\sklearn\\utils\\validation.py:70: FutureWarning: Pass n_neighbors=2 as keyword args. From version 1.0 (renaming of 0.25) passing these as positional arguments will result in an error\n",
      "  warnings.warn(f\"Pass {args_msg} as keyword args. From version \"\n",
      "c:\\users\\admin\\appdata\\local\\programs\\python\\python39\\lib\\site-packages\\sklearn\\utils\\validation.py:70: FutureWarning: Pass n_neighbors=2 as keyword args. From version 1.0 (renaming of 0.25) passing these as positional arguments will result in an error\n",
      "  warnings.warn(f\"Pass {args_msg} as keyword args. From version \"\n",
      "c:\\users\\admin\\appdata\\local\\programs\\python\\python39\\lib\\site-packages\\sklearn\\utils\\validation.py:70: FutureWarning: Pass n_neighbors=2 as keyword args. From version 1.0 (renaming of 0.25) passing these as positional arguments will result in an error\n",
      "  warnings.warn(f\"Pass {args_msg} as keyword args. From version \"\n",
      "c:\\users\\admin\\appdata\\local\\programs\\python\\python39\\lib\\site-packages\\sklearn\\utils\\validation.py:70: FutureWarning: Pass n_neighbors=2 as keyword args. From version 1.0 (renaming of 0.25) passing these as positional arguments will result in an error\n",
      "  warnings.warn(f\"Pass {args_msg} as keyword args. From version \"\n",
      "c:\\users\\admin\\appdata\\local\\programs\\python\\python39\\lib\\site-packages\\sklearn\\utils\\validation.py:70: FutureWarning: Pass n_neighbors=2 as keyword args. From version 1.0 (renaming of 0.25) passing these as positional arguments will result in an error\n",
      "  warnings.warn(f\"Pass {args_msg} as keyword args. From version \"\n",
      "c:\\users\\admin\\appdata\\local\\programs\\python\\python39\\lib\\site-packages\\sklearn\\utils\\validation.py:70: FutureWarning: Pass n_neighbors=2 as keyword args. From version 1.0 (renaming of 0.25) passing these as positional arguments will result in an error\n",
      "  warnings.warn(f\"Pass {args_msg} as keyword args. From version \"\n",
      "c:\\users\\admin\\appdata\\local\\programs\\python\\python39\\lib\\site-packages\\sklearn\\utils\\validation.py:70: FutureWarning: Pass n_neighbors=2 as keyword args. From version 1.0 (renaming of 0.25) passing these as positional arguments will result in an error\n",
      "  warnings.warn(f\"Pass {args_msg} as keyword args. From version \"\n"
     ]
    },
    {
     "name": "stdout",
     "output_type": "stream",
     "text": [
      "{'k': 2, 's': 0.5} 0.8982005970411768\n"
     ]
    }
   ],
   "source": [
    "from sklearn.model_selection import GridSearchCV\n",
    "parameters = {'k': range(1,3), 's': [0.5, 0.7, 1.0]}\n",
    "score = 'f1_macro'\n",
    "clf = GridSearchCV(MLkNN(), parameters, scoring=score)\n",
    "clf.fit(x_train, y_train)\n",
    "print (clf.best_params_, clf.best_score_)\n"
   ]
  },
  {
   "cell_type": "code",
   "execution_count": 100,
   "id": "09036645",
   "metadata": {},
   "outputs": [
    {
     "name": "stderr",
     "output_type": "stream",
     "text": [
      "c:\\users\\admin\\appdata\\local\\programs\\python\\python39\\lib\\site-packages\\sklearn\\utils\\validation.py:70: FutureWarning: Pass n_neighbors=2 as keyword args. From version 1.0 (renaming of 0.25) passing these as positional arguments will result in an error\n",
      "  warnings.warn(f\"Pass {args_msg} as keyword args. From version \"\n"
     ]
    }
   ],
   "source": [
    "classifier = MLkNN(k=2,s=0.5)\n",
    "\n",
    "# train\n",
    "classifier.fit(x_train, y_train)\n",
    "\n",
    "# predict\n",
    "predictions = classifier.predict(x_test)\n"
   ]
  },
  {
   "cell_type": "code",
   "execution_count": 110,
   "id": "7f3e4953",
   "metadata": {},
   "outputs": [
    {
     "name": "stdout",
     "output_type": "stream",
     "text": [
      "              precision    recall  f1-score   support\n",
      "\n",
      "           0       1.00      0.80      0.89         5\n",
      "           1       0.95      1.00      0.97        19\n",
      "           2       0.86      0.86      0.86        14\n",
      "\n",
      "   micro avg       0.92      0.92      0.92        38\n",
      "   macro avg       0.94      0.89      0.91        38\n",
      "weighted avg       0.92      0.92      0.92        38\n",
      " samples avg       0.93      0.90      0.90        38\n",
      "\n"
     ]
    },
    {
     "data": {
      "text/plain": [
       "0.8095238095238095"
      ]
     },
     "execution_count": 110,
     "metadata": {},
     "output_type": "execute_result"
    }
   ],
   "source": [
    "from sklearn import metrics\n",
    "y_expect=y_test\n",
    "y_pred=predictions\n",
    "print(metrics.classification_report(y_expect,y_pred))\n",
    "classifier.score(x_test,y_test)"
   ]
  },
  {
   "cell_type": "markdown",
   "id": "20be0fb2",
   "metadata": {},
   "source": [
    "## SVM"
   ]
  },
  {
   "cell_type": "code",
   "execution_count": 102,
   "id": "72cd2760",
   "metadata": {},
   "outputs": [],
   "source": [
    "import matplotlib.pyplot as plt\n",
    "import numpy as np\n",
    "from sklearn.datasets import make_blobs\n",
    "from sklearn.multioutput import MultiOutputClassifier\n",
    "from sklearn.svm import LinearSVC\n",
    "from sklearn.model_selection import train_test_split\n",
    "from sklearn.metrics import multilabel_confusion_matrix, ConfusionMatrixDisplay\n"
   ]
  },
  {
   "cell_type": "code",
   "execution_count": 103,
   "id": "ff45ec01",
   "metadata": {},
   "outputs": [],
   "source": [
    "x_train_svm, x_test_svm, y_train_svm, y_test_svm = train_test_split(principal_x, Y, test_size=0.33, random_state=42)\n"
   ]
  },
  {
   "cell_type": "code",
   "execution_count": 104,
   "id": "6cc087e9",
   "metadata": {},
   "outputs": [],
   "source": [
    "svm = LinearSVC(random_state=42)\n"
   ]
  },
  {
   "cell_type": "code",
   "execution_count": 105,
   "id": "6f1aa0cd",
   "metadata": {},
   "outputs": [],
   "source": [
    "multilabel_classifier = MultiOutputClassifier(svm, n_jobs=-1)\n"
   ]
  },
  {
   "cell_type": "code",
   "execution_count": 106,
   "id": "abfb4a95",
   "metadata": {},
   "outputs": [],
   "source": [
    "multilabel_classifier = multilabel_classifier.fit(x_train_svm, y_train_svm)\n"
   ]
  },
  {
   "cell_type": "code",
   "execution_count": 107,
   "id": "dbd49c08",
   "metadata": {},
   "outputs": [],
   "source": [
    "y_test_pred = multilabel_classifier.predict(x_test_svm)\n"
   ]
  },
  {
   "cell_type": "code",
   "execution_count": 108,
   "id": "29b8fb73",
   "metadata": {},
   "outputs": [],
   "source": [
    "matrices_svm = multilabel_confusion_matrix(y_test_svm, y_test_pred)\n"
   ]
  },
  {
   "cell_type": "code",
   "execution_count": 109,
   "id": "327f23db",
   "metadata": {},
   "outputs": [
    {
     "name": "stdout",
     "output_type": "stream",
     "text": [
      "              precision    recall  f1-score   support\n",
      "\n",
      "           0       1.00      0.67      0.80         9\n",
      "           1       1.00      1.00      1.00        29\n",
      "           2       1.00      0.95      0.98        21\n",
      "\n",
      "   micro avg       1.00      0.93      0.96        59\n",
      "   macro avg       1.00      0.87      0.93        59\n",
      "weighted avg       1.00      0.93      0.96        59\n",
      " samples avg       1.00      0.94      0.96        59\n",
      "\n"
     ]
    }
   ],
   "source": [
    "print(metrics.classification_report(y_test_svm,y_test_pred))"
   ]
  },
  {
   "cell_type": "code",
   "execution_count": 111,
   "id": "6c562c5d",
   "metadata": {},
   "outputs": [
    {
     "data": {
      "text/plain": [
       "0.8823529411764706"
      ]
     },
     "execution_count": 111,
     "metadata": {},
     "output_type": "execute_result"
    }
   ],
   "source": [
    "multilabel_classifier.score(x_test_svm,y_test_svm)"
   ]
  },
  {
   "cell_type": "code",
   "execution_count": 112,
   "id": "fcc59056",
   "metadata": {},
   "outputs": [],
   "source": [
    "from sklearn.ensemble import RandomForestClassifier\n",
    "from sklearn.datasets import make_classification"
   ]
  },
  {
   "cell_type": "code",
   "execution_count": 114,
   "id": "6874acc0",
   "metadata": {},
   "outputs": [],
   "source": [
    "x_train_rf, x_test_rf, y_train_rf, y_test_rf = train_test_split(principal_x, Y, test_size=0.2, random_state=42)\n"
   ]
  },
  {
   "cell_type": "code",
   "execution_count": 113,
   "id": "34ed8a3c",
   "metadata": {},
   "outputs": [],
   "source": [
    "clf = RandomForestClassifier(max_depth=2, random_state=0)"
   ]
  },
  {
   "cell_type": "code",
   "execution_count": 115,
   "id": "6f53a2fc",
   "metadata": {},
   "outputs": [
    {
     "data": {
      "text/plain": [
       "RandomForestClassifier(max_depth=2, random_state=0)"
      ]
     },
     "execution_count": 115,
     "metadata": {},
     "output_type": "execute_result"
    }
   ],
   "source": [
    "clf.fit(x_train, y_train)\n"
   ]
  },
  {
   "cell_type": "code",
   "execution_count": 116,
   "id": "ca0b40ae",
   "metadata": {},
   "outputs": [],
   "source": [
    "y_hat=clf.predict(x_test)\n"
   ]
  },
  {
   "cell_type": "code",
   "execution_count": 118,
   "id": "f9fb7b56",
   "metadata": {},
   "outputs": [
    {
     "name": "stdout",
     "output_type": "stream",
     "text": [
      "              precision    recall  f1-score   support\n",
      "\n",
      "           0       0.40      0.33      0.36         6\n",
      "           1       0.80      0.94      0.86        17\n",
      "           2       0.62      0.77      0.69        13\n",
      "\n",
      "   micro avg       0.68      0.78      0.73        36\n",
      "   macro avg       0.61      0.68      0.64        36\n",
      "weighted avg       0.67      0.78      0.72        36\n",
      " samples avg       0.67      0.76      0.70        36\n",
      "\n"
     ]
    }
   ],
   "source": [
    "print(metrics.classification_report(y_test_rf,y_hat))"
   ]
  },
  {
   "cell_type": "code",
   "execution_count": 119,
   "id": "7b7113be",
   "metadata": {},
   "outputs": [
    {
     "data": {
      "text/plain": [
       "0.8571428571428571"
      ]
     },
     "execution_count": 119,
     "metadata": {},
     "output_type": "execute_result"
    }
   ],
   "source": [
    "clf.score(x_test_rf,y_test_rf)"
   ]
  },
  {
   "cell_type": "code",
   "execution_count": 139,
   "id": "b6beb2f1",
   "metadata": {},
   "outputs": [
    {
     "data": {
      "text/plain": [
       "5"
      ]
     },
     "execution_count": 139,
     "metadata": {},
     "output_type": "execute_result"
    }
   ],
   "source": [
    "from sklearn.model_selection import KFold\n",
    "kf=KFold(n_splits=5)\n",
    "kf.get_n_splits(principal_x)"
   ]
  },
  {
   "cell_type": "code",
   "execution_count": 132,
   "id": "d5b65f69",
   "metadata": {},
   "outputs": [],
   "source": [
    "def get_score(model,X_train,X_test,y_train,y_test):\n",
    "    model.fit(X_train,y_train)\n",
    "    return model.score(X_test,y_test)"
   ]
  },
  {
   "cell_type": "code",
   "execution_count": 133,
   "id": "b6e67a6d",
   "metadata": {},
   "outputs": [],
   "source": [
    "from sklearn.model_selection import StratifiedKFold\n",
    "folds=StratifiedKFold(n_splits=3)\n"
   ]
  },
  {
   "cell_type": "code",
   "execution_count": 177,
   "id": "f72fff7f",
   "metadata": {},
   "outputs": [
    {
     "name": "stderr",
     "output_type": "stream",
     "text": [
      "c:\\users\\admin\\appdata\\local\\programs\\python\\python39\\lib\\site-packages\\sklearn\\utils\\validation.py:70: FutureWarning: Pass n_neighbors=2 as keyword args. From version 1.0 (renaming of 0.25) passing these as positional arguments will result in an error\n",
      "  warnings.warn(f\"Pass {args_msg} as keyword args. From version \"\n",
      "c:\\users\\admin\\appdata\\local\\programs\\python\\python39\\lib\\site-packages\\sklearn\\utils\\validation.py:70: FutureWarning: Pass n_neighbors=2 as keyword args. From version 1.0 (renaming of 0.25) passing these as positional arguments will result in an error\n",
      "  warnings.warn(f\"Pass {args_msg} as keyword args. From version \"\n",
      "c:\\users\\admin\\appdata\\local\\programs\\python\\python39\\lib\\site-packages\\sklearn\\utils\\validation.py:70: FutureWarning: Pass n_neighbors=2 as keyword args. From version 1.0 (renaming of 0.25) passing these as positional arguments will result in an error\n",
      "  warnings.warn(f\"Pass {args_msg} as keyword args. From version \"\n",
      "c:\\users\\admin\\appdata\\local\\programs\\python\\python39\\lib\\site-packages\\sklearn\\utils\\validation.py:70: FutureWarning: Pass n_neighbors=2 as keyword args. From version 1.0 (renaming of 0.25) passing these as positional arguments will result in an error\n",
      "  warnings.warn(f\"Pass {args_msg} as keyword args. From version \"\n",
      "c:\\users\\admin\\appdata\\local\\programs\\python\\python39\\lib\\site-packages\\sklearn\\utils\\validation.py:70: FutureWarning: Pass n_neighbors=2 as keyword args. From version 1.0 (renaming of 0.25) passing these as positional arguments will result in an error\n",
      "  warnings.warn(f\"Pass {args_msg} as keyword args. From version \"\n"
     ]
    }
   ],
   "source": [
    "scores_k=[]\n",
    "scores_s=[]\n",
    "scores_rf=[]\n",
    "for train_index, test_index in kf.split(principal_x):\n",
    "    X_train_kf,X_test_kf,y_train_kf,y_test_kf=principal_x[train_index],principal_x[test_index],Y[train_index],Y[test_index]\n",
    "    scores_k.append(get_score(MLkNN(k=2,s=0.5),X_train_kf,X_test_kf,y_train_kf,y_test_kf))\n",
    "    scores_s.append(get_score(MultiOutputClassifier(LinearSVC(random_state=42), n_jobs=-1),X_train_kf,X_test_kf,y_train_kf,y_test_kf))\n",
    "    scores_rf.append(get_score(RandomForestClassifier(max_depth=2, random_state=0),X_train_kf,X_test_kf,y_train_kf,y_test_kf))"
   ]
  },
  {
   "cell_type": "code",
   "execution_count": 170,
   "id": "2a6fbb58",
   "metadata": {},
   "outputs": [
    {
     "data": {
      "text/plain": [
       "[0.5714285714285714, 0.8095238095238095, 0.7, 0.5, 0.3]"
      ]
     },
     "execution_count": 170,
     "metadata": {},
     "output_type": "execute_result"
    }
   ],
   "source": [
    "scores_k"
   ]
  },
  {
   "cell_type": "code",
   "execution_count": 171,
   "id": "1bf7c791",
   "metadata": {},
   "outputs": [
    {
     "data": {
      "text/plain": [
       "[0.5238095238095238, 0.9047619047619048, 0.75, 0.55, 0.35]"
      ]
     },
     "execution_count": 171,
     "metadata": {},
     "output_type": "execute_result"
    }
   ],
   "source": [
    "scores_s"
   ]
  },
  {
   "cell_type": "code",
   "execution_count": 178,
   "id": "fa4e8bf2",
   "metadata": {},
   "outputs": [
    {
     "data": {
      "text/plain": [
       "[0.8571428571428571, 0.8571428571428571, 0.75, 0.35, 0.35]"
      ]
     },
     "execution_count": 178,
     "metadata": {},
     "output_type": "execute_result"
    }
   ],
   "source": [
    "scores_rf"
   ]
  },
  {
   "cell_type": "code",
   "execution_count": 174,
   "id": "32be02c0",
   "metadata": {},
   "outputs": [],
   "source": [
    "from sklearn.model_selection import cross_val_score"
   ]
  },
  {
   "cell_type": "code",
   "execution_count": 176,
   "id": "7f79fa55",
   "metadata": {},
   "outputs": [
    {
     "name": "stderr",
     "output_type": "stream",
     "text": [
      "c:\\users\\admin\\appdata\\local\\programs\\python\\python39\\lib\\site-packages\\sklearn\\utils\\validation.py:70: FutureWarning: Pass n_neighbors=2 as keyword args. From version 1.0 (renaming of 0.25) passing these as positional arguments will result in an error\n",
      "  warnings.warn(f\"Pass {args_msg} as keyword args. From version \"\n",
      "c:\\users\\admin\\appdata\\local\\programs\\python\\python39\\lib\\site-packages\\sklearn\\utils\\validation.py:70: FutureWarning: Pass n_neighbors=2 as keyword args. From version 1.0 (renaming of 0.25) passing these as positional arguments will result in an error\n",
      "  warnings.warn(f\"Pass {args_msg} as keyword args. From version \"\n",
      "c:\\users\\admin\\appdata\\local\\programs\\python\\python39\\lib\\site-packages\\sklearn\\utils\\validation.py:70: FutureWarning: Pass n_neighbors=2 as keyword args. From version 1.0 (renaming of 0.25) passing these as positional arguments will result in an error\n",
      "  warnings.warn(f\"Pass {args_msg} as keyword args. From version \"\n",
      "c:\\users\\admin\\appdata\\local\\programs\\python\\python39\\lib\\site-packages\\sklearn\\utils\\validation.py:70: FutureWarning: Pass n_neighbors=2 as keyword args. From version 1.0 (renaming of 0.25) passing these as positional arguments will result in an error\n",
      "  warnings.warn(f\"Pass {args_msg} as keyword args. From version \"\n",
      "c:\\users\\admin\\appdata\\local\\programs\\python\\python39\\lib\\site-packages\\sklearn\\utils\\validation.py:70: FutureWarning: Pass n_neighbors=2 as keyword args. From version 1.0 (renaming of 0.25) passing these as positional arguments will result in an error\n",
      "  warnings.warn(f\"Pass {args_msg} as keyword args. From version \"\n"
     ]
    },
    {
     "data": {
      "text/plain": [
       "array([0.57142857, 0.80952381, 0.7       , 0.5       , 0.3       ])"
      ]
     },
     "execution_count": 176,
     "metadata": {},
     "output_type": "execute_result"
    }
   ],
   "source": [
    "cross_val_score(MLkNN(k=2,s=0.5),principal_x,Y)"
   ]
  }
 ],
 "metadata": {
  "kernelspec": {
   "display_name": "Python 3 (ipykernel)",
   "language": "python",
   "name": "python3"
  },
  "language_info": {
   "codemirror_mode": {
    "name": "ipython",
    "version": 3
   },
   "file_extension": ".py",
   "mimetype": "text/x-python",
   "name": "python",
   "nbconvert_exporter": "python",
   "pygments_lexer": "ipython3",
   "version": "3.9.6"
  }
 },
 "nbformat": 4,
 "nbformat_minor": 5
}
