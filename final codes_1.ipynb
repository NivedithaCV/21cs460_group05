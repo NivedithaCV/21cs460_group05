{
 "cells": [
  {
   "cell_type": "code",
   "execution_count": null,
   "id": "4db81009",
   "metadata": {},
   "outputs": [],
   "source": [
    "import numpy as np \n",
    "import matplotlib\n",
    "import pandas as pd\n",
    "from __future__ import division\n",
    "from scipy import interpolate\n",
    "import numpy as np\n",
    "import matplotlib\n",
    "import matplotlib.pyplot as plt\n",
    "import spectral.io.envi as envi\n",
    "from spectral import *\n",
    "import os\n",
    "import re\n",
    "import math\n",
    "import PIL\n",
    "from scipy import signal\n",
    "from scipy import ndimage\n",
    "from scipy import spatial\n",
    "from scipy import stats\n",
    "from scipy import interpolate\n",
    "import traceback\n",
    "import sys\n",
    "import pickle\n",
    "import warnings\n",
    "from pprint import pprint\n",
    "import lmfit"
   ]
  },
  {
   "cell_type": "code",
   "execution_count": null,
   "id": "485dc4f0",
   "metadata": {},
   "outputs": [],
   "source": [
    "import peakutils\n",
    "import matplotlib.pyplot as plt\n",
    "from scipy.interpolate import interp1d\n"
   ]
  },
  {
   "cell_type": "code",
   "execution_count": null,
   "id": "9ec51de4",
   "metadata": {},
   "outputs": [],
   "source": [
    "headerFileAddress=r'E:\\Data\\ML\\M3G20090720T043741_V01_RFL_test.HDR'\n",
    "currentObservationHeader=envi.open(headerFileAddress)\n",
    "currentObservationImage=currentObservationHeader.open_memmap()\n",
    "print(dir(currentObservationHeader))\n",
    "currentObservationArray=np.array(currentObservationHeader.open_memmap())\n",
    "print(currentObservationArray.shape)\n",
    "datacube=currentObservationArray\n",
    "\n",
    "wavelengthList=[\n",
    "  540.840027,  580.760010,  620.690002,  660.609985,  700.539978,  730.479980,\n",
    "  750.440002,  770.400024,  790.369995,  810.330017,  830.289978,  850.250000,\n",
    "  870.210022,  890.169983,  910.140015,  930.099976,  950.059998,  970.020020,\n",
    "  989.979980, 1009.950012, 1029.910034, 1049.869995, 1069.829956, 1089.790039,\n",
    "  1109.760010, 1129.719971, 1149.680054, 1169.640015, 1189.599976, 1209.569946,\n",
    "  1229.530029, 1249.489990, 1269.449951, 1289.410034, 1309.380005, 1329.339966,\n",
    "  1349.300049, 1369.260010, 1389.219971, 1409.189941, 1429.150024, 1449.109985,\n",
    "  1469.069946, 1489.030029, 1508.989990, 1528.959961, 1548.920044, 1578.859985,\n",
    "  1618.790039, 1658.709961, 1698.630005, 1738.560059, 1778.479980, 1818.400024,\n",
    "  1858.329956, 1898.250000, 1938.180054, 1978.099976, 2018.020020, 2057.949951,\n",
    "  2097.870117, 2137.800049, 2177.719971, 2217.639893, 2257.570068, 2297.489990,\n",
    "  2337.419922, 2377.340088, 2417.260010, 2457.189941, 2497.110107, 2537.030029,\n",
    "  2576.959961, 2616.879883, 2656.810059, 2696.729980, 2736.649902, 2776.580078,\n",
    "  2816.500000, 2856.429932, 2896.350098, 2936.270020, 2976.199951]\n",
    "wavelengthList=np.array(wavelengthList)"
   ]
  },
  {
   "cell_type": "code",
   "execution_count": null,
   "id": "bb459138",
   "metadata": {},
   "outputs": [],
   "source": [
    "datacube=ndimage.uniform_filter(datacube,size=3)"
   ]
  },
  {
   "cell_type": "code",
   "execution_count": null,
   "id": "d75fa0ac",
   "metadata": {
    "scrolled": true
   },
   "outputs": [],
   "source": [
    "base=[]\n",
    "for i in range(1,500):\n",
    "    #plt.plot(wavelengthList,datacube[i,56,:])\n",
    "    plt.xlim(350,2500)\n",
    "#x8=df_pl.iloc[:,0].to_numpy()\n",
    "\n",
    "    baseline_peakutils = peakutils.baseline(datacube[1,56,:])\n",
    "    intensity_peakutils = datacube[i,56,:] - baseline_peakutils\n",
    "    f =(interp1d(wavelengthList, intensity_peakutils))\n",
    "    inter=np.arange(550,2505,5)\n",
    "    final=f(np.array(inter))\n",
    "    plt.plot(inter,final)\n",
    "    base.append(final)\n",
    "    #plt.plot(wavelengthList,intensity_peakutils)\n",
    "    #base.append(intensity_peakutils)\n",
    "plt.xlabel(\"wavelength(nm)\")\n",
    "plt.ylabel(\"reflectance\")"
   ]
  },
  {
   "cell_type": "code",
   "execution_count": null,
   "id": "fafe4e77",
   "metadata": {},
   "outputs": [],
   "source": [
    "len(base)\n",
    "final=np.array(base)\n",
    "final.shape"
   ]
  },
  {
   "cell_type": "code",
   "execution_count": null,
   "id": "bf24050c",
   "metadata": {},
   "outputs": [],
   "source": [
    "from scipy.interpolate import interp1d\n",
    "f = interp1d(wavelengthList, intensity_peakutils)"
   ]
  },
  {
   "cell_type": "code",
   "execution_count": null,
   "id": "3eae4870",
   "metadata": {
    "scrolled": true
   },
   "outputs": [],
   "source": [
    "inter=np.arange(550,2505,5)\n",
    "final=f(np.array(inter))\n",
    "print(final)\n",
    "print(inter)"
   ]
  },
  {
   "cell_type": "code",
   "execution_count": null,
   "id": "475e6004",
   "metadata": {},
   "outputs": [],
   "source": [
    "len(inter)"
   ]
  },
  {
   "cell_type": "code",
   "execution_count": null,
   "id": "54ee473e",
   "metadata": {},
   "outputs": [],
   "source": [
    "\n",
    "\n",
    "# This function take a dataframe\n",
    "# as a parameter and returning list\n",
    "# of column names whose contents \n",
    "# are duplicates.\n",
    "def getDuplicateColumns(df):\n",
    "  \n",
    "    # Create an empty set\n",
    "    duplicateColumnNames = set()\n",
    "      \n",
    "    # Iterate through all the columns \n",
    "    # of dataframe\n",
    "    for x in range(df.shape[1]):\n",
    "          \n",
    "        # Take column at xth index.\n",
    "        col = df.iloc[:, x]\n",
    "          \n",
    "        # Iterate through all the columns in\n",
    "        # DataFrame from (x + 1)th index to\n",
    "        # last index\n",
    "        for y in range(x + 1, df.shape[1]):\n",
    "              \n",
    "            # Take column at yth index.\n",
    "            otherCol = df.iloc[:, y]\n",
    "              \n",
    "            # Check if two columns at x & y\n",
    "            # index are equal or not,\n",
    "            # if equal then adding \n",
    "            # to the set\n",
    "            if col.equals(otherCol):\n",
    "                duplicateColumnNames.add(df.columns.values[y])\n",
    "                  \n",
    "    # Return list of unique column names \n",
    "    # whose contents are duplicates.\n",
    "    return list(duplicateColumnNames)"
   ]
  },
  {
   "cell_type": "code",
   "execution_count": null,
   "id": "8df2923b",
   "metadata": {},
   "outputs": [],
   "source": [
    "df=pd.read_excel(\"15_Master_Mixtures_Part_1.xlsx\",header=[3])\n",
    "df=df[df['Wavelength (nm)'] % 5==0]\n",
    "df.dropna(how='all', axis=1, inplace=True)\n",
    "\n",
    "duplicateColNames = getDuplicateColumns(df)\n",
    "  \n",
    "print('Duplicate Columns are :')\n",
    "for column in duplicateColNames :\n",
    "    print('Column Name : ', column)\n",
    "    print(df.columns.get_loc(column))    \n",
    "df.drop(df.columns[[42, 30,54,15 ]], axis = 1, inplace = True)\n",
    "#df.drop(df.columns[[54 ]], axis = 1, inplace = True)\n",
    "duplicateColNames = getDuplicateColumns(df)\n",
    "  \n",
    "print('Duplicate Columns are :')\n",
    "for column in duplicateColNames :\n",
    "    print('Column Name : ', column)\n",
    "index_name = df[ df['Wavelength (nm)'] <550 ].index\n",
    "df.drop(index_name, inplace = True)\n",
    "print(df)"
   ]
  },
  {
   "cell_type": "code",
   "execution_count": null,
   "id": "d406a268",
   "metadata": {},
   "outputs": [],
   "source": [
    "df1=pd.read_excel(\"orthopyroxene.xlsx\",header=[2],usecols = \"A:S\")\n",
    "df1.dropna(how='all', axis=1, inplace=True)\n",
    "df1=df1[df1['Sample ID'] % 5==0]\n",
    "index_name = df1[ df1['Sample ID'] <550 ].index\n",
    "df1.drop(index_name, inplace = True)\n",
    "print(df1)"
   ]
  },
  {
   "cell_type": "code",
   "execution_count": null,
   "id": "2882558f",
   "metadata": {},
   "outputs": [],
   "source": [
    "df2=pd.read_excel(\"2_2_Master_Olivines.xlsx\",header=[3],usecols = \"A,C:S\")\n",
    "df2.dropna(how='all',axis=1,inplace=True)\n",
    "index_names = df2[ df2['wavelength (nm)'] > 2500 ].index\n",
    "df2.drop(index_names, inplace = True)\n",
    "print(df2)\n",
    "index_name = df2[ df2['wavelength (nm)'] <550 ].index\n",
    "df2.drop(index_name, inplace = True)\n",
    "print(df2)"
   ]
  },
  {
   "cell_type": "code",
   "execution_count": null,
   "id": "dc43f12c",
   "metadata": {},
   "outputs": [],
   "source": [
    "df4 = pd.read_excel(\"15_Master_Mixtures_Part_1.xlsx\", sheet_name=\"15_2_Mixtures\",header=[3],usecols = \"A:L\")\n",
    "df4=df4[df4['Sample ID'] % 5==0]\n",
    "index_name_p1 = df4[ df4['Sample ID'] <550 ].index\n",
    "df4.drop(index_name_p1, inplace = True)\n",
    "print(df4)"
   ]
  },
  {
   "cell_type": "code",
   "execution_count": null,
   "id": "f629c06c",
   "metadata": {},
   "outputs": [],
   "source": [
    "dfp=pd.read_excel(\"Plagioclase.xlsx\",header=[1])\n",
    "dfp=dfp[dfp['Wavelength (nm)']%5==0]\n",
    "index_names_p = dfp[ dfp['Wavelength (nm)'] > 2500 ].index\n",
    "dfp.drop(index_names_p, inplace = True)\n",
    "index_name_p1 = dfp[ dfp['Wavelength (nm)'] <550 ].index\n",
    "dfp.drop(index_name_p1, inplace = True)\n",
    "print(dfp)"
   ]
  },
  {
   "cell_type": "code",
   "execution_count": null,
   "id": "31d9655b",
   "metadata": {},
   "outputs": [],
   "source": [
    "dfl=pd.read_excel(\"ilmenite.xlsx\",header=[1])\n",
    "dfl=dfl[dfl['Sample ID']%5==0]\n",
    "index_names_l = dfl[ dfl['Sample ID'] > 2500 ].index\n",
    "dfl.drop(index_names_l, inplace = True)\n",
    "index_name_l = dfl[ dfl['Sample ID'] <550 ].index\n",
    "dfl.drop(index_name_l, inplace = True)\n",
    "print(dfl)"
   ]
  },
  {
   "cell_type": "code",
   "execution_count": null,
   "id": "32508a44",
   "metadata": {},
   "outputs": [],
   "source": [
    "df_sp=pd.read_excel(\"Spinels.xlsx\",header=[0])\n",
    "df_sp=df_sp[df_sp['Sample ID']%5==0]\n",
    "index_names_sp = df_sp[ df_sp['Sample ID'] > 2500 ].index\n",
    "df_sp.drop(index_names_sp, inplace = True)\n",
    "index_name_sp = df_sp[ df_sp['Sample ID'] <550 ].index\n",
    "df_sp.drop(index_name_sp, inplace = True)\n",
    "print(df_sp)"
   ]
  },
  {
   "cell_type": "code",
   "execution_count": null,
   "id": "d315ddf5",
   "metadata": {
    "scrolled": true
   },
   "outputs": [],
   "source": [
    "dfol_m=pd.read_excel(\"cers89.xlsx\",header=[1])\n",
    "# df_sp=df_sp[df_sp['Wavelength']%5==0]\n",
    "\n",
    "index_names_m1 = dfol_m[ dfol_m['Wavelength(micron)'] > 2.500 ].index\n",
    "dfol_m.drop(index_names_m1, inplace = True)\n",
    "index_name_m1 = dfol_m[ dfol_m['Wavelength(micron)'] <0.550 ].index\n",
    "dfol_m.drop(index_name_m1, inplace = True)\n",
    "print(dfol_m)"
   ]
  },
  {
   "cell_type": "code",
   "execution_count": null,
   "id": "c7c4d39f",
   "metadata": {},
   "outputs": [],
   "source": [
    "df2_m=pd.read_excel(\"c1xs06.xlsx\",header=[1])\n",
    "# df_sp=df_sp[df_sp['Wavelength']%5==0]\n",
    "\n",
    "index_names_m2 = df2_m[ df2_m['Wavelength(micron)'] > 2.500 ].index\n",
    "df2_m.drop(index_names_m2, inplace = True)\n",
    "index_name_m2 = df2_m[ df2_m['Wavelength(micron)'] <0.550 ].index\n",
    "df2_m.drop(index_name_m2, inplace = True)\n",
    "print(df2_m)"
   ]
  },
  {
   "cell_type": "code",
   "execution_count": null,
   "id": "afb2463c",
   "metadata": {},
   "outputs": [],
   "source": [
    "df3_m=pd.read_excel(\"c1xs15.xlsx\",header=[1])\n",
    "# df_sp=df_sp[df_sp['Wavelength']%5==0]\n",
    "\n",
    "index_names_m3 = df3_m[ df3_m['Wavelength(micron)'] > 2.500 ].index\n",
    "df3_m.drop(index_names_m3, inplace = True)\n",
    "index_name_m3 = df3_m[ df3_m['Wavelength(micron)'] <0.550 ].index\n",
    "df3_m.drop(index_name_m3, inplace = True)\n",
    "print(df3_m)"
   ]
  },
  {
   "cell_type": "code",
   "execution_count": null,
   "id": "724a13a6",
   "metadata": {
    "scrolled": true
   },
   "outputs": [],
   "source": [
    "df4_m=pd.read_excel(\"c1xt47.xlsx\",header=[1])\n",
    "# df_sp=df_sp[df_sp['Wavelength']%5==0]\n",
    "\n",
    "index_names_m4 = df4_m[ df4_m['Wavelength(micron)'] > 2.500 ].index\n",
    "df4_m.drop(index_names_m4, inplace = True)\n",
    "index_name_m4 = df4_m[ df4_m['Wavelength(micron)'] <0.550 ].index\n",
    "df4_m.drop(index_name_m4, inplace = True)\n",
    "print(df4_m)"
   ]
  },
  {
   "cell_type": "code",
   "execution_count": null,
   "id": "4a01e4b3",
   "metadata": {},
   "outputs": [],
   "source": [
    "df5_m=pd.read_excel(\"c1xt57.xlsx\",header=[1])\n",
    "# df_sp=df_sp[df_sp['Wavelength']%5==0]\n",
    "df5_m = df5_m.dropna()\n",
    "\n",
    "index_names_m5 = df5_m[ df5_m['Wavelength(micron)'] > 2.500 ].index\n",
    "df5_m.drop(index_names_m5, inplace = True)\n",
    "index_name_m5 = df5_m[ df5_m['Wavelength(micron)'] <0.550 ].index\n",
    "df5_m.drop(index_name_m5, inplace = True)\n",
    "print(df5_m)"
   ]
  },
  {
   "cell_type": "code",
   "execution_count": null,
   "id": "6de2a3be",
   "metadata": {},
   "outputs": [],
   "source": [
    "df_pl=pd.read_excel(\"relab_plag.xlsx\",header=[1])\n",
    "\n",
    "index_names_m_pl = df_pl[ df_pl['Wavelength(micron)'] > 2.500].index\n",
    "df_pl.drop(index_names_m_pl, inplace = True)\n",
    "index_name_m_pl = df_pl[ df_pl['Wavelength(micron)'] <0.550 ].index\n",
    "df_pl.drop(index_name_m_pl, inplace = True)\n",
    "#df_pl=df_pl[(df_pl['Wavelength(micron)']*1000)%5==0]\n",
    "#df_pl = df_pl.dropna()\n",
    "print(df_pl)"
   ]
  },
  {
   "cell_type": "code",
   "execution_count": null,
   "id": "ca86c39a",
   "metadata": {},
   "outputs": [],
   "source": [
    "feature=[]\n"
   ]
  },
  {
   "cell_type": "code",
   "execution_count": null,
   "id": "4c829c92",
   "metadata": {},
   "outputs": [],
   "source": [
    "x=df.iloc[:,0].to_numpy()\n",
    "\n",
    "for j in range(1,len(df.columns)):\n",
    "    y=df.iloc[:,j].to_numpy()\n",
    "    baseline_peakutils = peakutils.baseline(y)\n",
    "    intensity_peakutils = y - baseline_peakutils\n",
    "    plt.plot(x,intensity_peakutils)\n",
    "    plt.xlabel(\"wavelength(nm)\")\n",
    "    plt.ylabel(\"reflectance\")\n",
    "    plt.title(\"continuum removed spectra of opx and cpx mixture\")\n",
    "    feature.append(intensity_peakutils)\n",
    "print(len(feature))"
   ]
  },
  {
   "cell_type": "code",
   "execution_count": null,
   "id": "ece43b1d",
   "metadata": {},
   "outputs": [],
   "source": [
    "x1=df.iloc[:,0].to_numpy()\n",
    "\n",
    "for i in range(1,len(df1.columns)):\n",
    "    y=df1.iloc[:,i].to_numpy()\n",
    "    \n",
    "    baseline_peakutils = peakutils.baseline(y)\n",
    "    intensity_peakutils = y - baseline_peakutils\n",
    "    plt.plot(x,intensity_peakutils)\n",
    "    plt.xlabel(\"wavelength(nm)\")\n",
    "    plt.ylabel(\"reflectance\")\n",
    "    plt.title(\"continuum removed spectra of opx\")\n",
    "    feature.append(intensity_peakutils)\n",
    "print(len(feature))"
   ]
  },
  {
   "cell_type": "code",
   "execution_count": null,
   "id": "daea8a85",
   "metadata": {},
   "outputs": [],
   "source": [
    "x2=df2.iloc[:,0].to_numpy()\n",
    "for k in range(1,len(df2.columns)):\n",
    "    y=df2.iloc[:,k].to_numpy()\n",
    "\n",
    "    baseline_peakutils = peakutils.baseline(y)\n",
    "    intensity_peakutils = y - baseline_peakutils\n",
    "    plt.plot(x2,intensity_peakutils)\n",
    "    plt.xlabel(\"wavelength(nm)\")\n",
    "    plt.ylabel(\"reflectance\")\n",
    "    plt.title(\"continuum removed spectra of olivine\")\n",
    "    feature.append(intensity_peakutils)\n",
    "print(len(feature))"
   ]
  },
  {
   "cell_type": "code",
   "execution_count": null,
   "id": "f7924aaa",
   "metadata": {},
   "outputs": [],
   "source": [
    "x4=df4.iloc[:,0].to_numpy()\n",
    "for r in range(1,len(df4.columns)):\n",
    "    y=df4.iloc[:,r].to_numpy()\n",
    "\n",
    "    baseline_peakutils = peakutils.baseline(y)\n",
    "    intensity_peakutils = y - baseline_peakutils\n",
    "    plt.plot(x4,intensity_peakutils)\n",
    "    plt.xlabel(\"wavelength(nm)\")\n",
    "    plt.ylabel(\"reflectance\")\n",
    "    plt.title(\"continuum removed spectra of ol and opx\")\n",
    "    feature.append(intensity_peakutils)\n",
    "print(len(feature))"
   ]
  },
  {
   "cell_type": "code",
   "execution_count": null,
   "id": "01452b8f",
   "metadata": {
    "scrolled": true
   },
   "outputs": [],
   "source": [
    "x5=dfp.iloc[:,0].to_numpy()\n",
    "for r in range(1,len(dfp.columns)):\n",
    "    y=dfp.iloc[:,r].to_numpy()\n",
    "\n",
    "    baseline_peakutils = peakutils.baseline(y)\n",
    "    intensity_peakutils = y - baseline_peakutils\n",
    "    plt.plot(x5,intensity_peakutils)\n",
    "    plt.xlabel(\"wavelength(nm)\")\n",
    "    plt.ylabel(\"reflectance\")\n",
    "    plt.title(\"continuum removed spectra of plg\")\n",
    "    feature.append(intensity_peakutils)\n",
    "print(len(feature))"
   ]
  },
  {
   "cell_type": "code",
   "execution_count": null,
   "id": "80021f61",
   "metadata": {
    "scrolled": true
   },
   "outputs": [],
   "source": [
    "x6=dfl.iloc[:,0].to_numpy()\n",
    "for r in range(1,len(dfl.columns)):\n",
    "    y=dfl.iloc[:,r].to_numpy()\n",
    "\n",
    "    baseline_peakutils = peakutils.baseline(y)\n",
    "    intensity_peakutils = y - baseline_peakutils\n",
    "    plt.plot(x4,intensity_peakutils)\n",
    "    plt.xlabel(\"wavelength(nm)\")\n",
    "    plt.ylabel(\"reflectance\")\n",
    "    plt.title(\"continuum removed spectra of ilm\")\n",
    "    feature.append(intensity_peakutils)\n",
    "print(len(feature))"
   ]
  },
  {
   "cell_type": "code",
   "execution_count": null,
   "id": "2a37d241",
   "metadata": {
    "scrolled": true
   },
   "outputs": [],
   "source": [
    "x7=df_sp.iloc[:,0].to_numpy()\n",
    "for r in range(1,len(df_sp.columns)):\n",
    "    y=df_sp.iloc[:,r].to_numpy()\n",
    "\n",
    "    baseline_peakutils = peakutils.baseline(y)\n",
    "    intensity_peakutils = y - baseline_peakutils\n",
    "    plt.plot(x4,intensity_peakutils)\n",
    "    plt.xlabel(\"wavelength(nm)\")\n",
    "    plt.ylabel(\"reflectance\")\n",
    "    plt.title(\"continuum removed spectra of spinel\")\n",
    "    feature.append(intensity_peakutils)\n",
    "print(len(feature))"
   ]
  },
  {
   "cell_type": "code",
   "execution_count": null,
   "id": "d77acdf8",
   "metadata": {},
   "outputs": [],
   "source": [
    "x8=df.iloc[:,0].to_numpy()\n",
    "for r in range(1,len(dfol_m.columns)):\n",
    "    y=dfol_m.iloc[:,r].to_numpy()\n",
    "\n",
    "    baseline_peakutils = peakutils.baseline(y)\n",
    "    intensity_peakutils = y - baseline_peakutils\n",
    "    plt.plot(x8,intensity_peakutils)\n",
    "    plt.xlabel(\"wavelength(nm)\")\n",
    "    plt.ylabel(\"reflectance\")\n",
    "    plt.title(\"continuum removed spectra of ilm and olv\")\n",
    "    feature.append(intensity_peakutils)\n",
    "print(len(feature))"
   ]
  },
  {
   "cell_type": "code",
   "execution_count": null,
   "id": "8366f318",
   "metadata": {},
   "outputs": [],
   "source": [
    "x8=df.iloc[:,0].to_numpy()\n",
    "for r in range(1,len(df2_m.columns)):\n",
    "    y=df2_m.iloc[:,r].to_numpy()\n",
    "\n",
    "    baseline_peakutils = peakutils.baseline(y)\n",
    "    intensity_peakutils = y - baseline_peakutils\n",
    "    plt.plot(x8,intensity_peakutils)\n",
    "    plt.xlabel(\"wavelength(nm)\")\n",
    "    plt.ylabel(\"reflectance\")\n",
    "    plt.title(\"continuum removed spectra of py+oli+plg+ilm\")\n",
    "    feature.append(intensity_peakutils)\n",
    "print(len(feature))"
   ]
  },
  {
   "cell_type": "code",
   "execution_count": null,
   "id": "2267399e",
   "metadata": {},
   "outputs": [],
   "source": [
    "x8=df.iloc[:,0].to_numpy()\n",
    "for r in range(1,len(df3_m.columns)):\n",
    "    y=df3_m.iloc[:,r].to_numpy()\n",
    "\n",
    "    baseline_peakutils = peakutils.baseline(y)\n",
    "    intensity_peakutils = y - baseline_peakutils\n",
    "    plt.plot(x8,intensity_peakutils)\n",
    "    plt.xlabel(\"wavelength(nm)\")\n",
    "    plt.ylabel(\"reflectance\")\n",
    "    plt.title(\"continuum removed spectra of pyr+plg+ilm\")\n",
    "    #feature.append(intensity_peakutils)\n",
    "print(len(feature))"
   ]
  },
  {
   "cell_type": "code",
   "execution_count": null,
   "id": "1b857b70",
   "metadata": {},
   "outputs": [],
   "source": [
    "x8=df.iloc[:,0].to_numpy()\n",
    "for r in range(1,len(df4_m.columns)):\n",
    "    y=df4_m.iloc[:,r].to_numpy()\n",
    "\n",
    "    baseline_peakutils = peakutils.baseline(y)\n",
    "    intensity_peakutils = y - baseline_peakutils\n",
    "    plt.plot(x8,intensity_peakutils)\n",
    "    plt.xlabel(\"wavelength(nm)\")\n",
    "    plt.ylabel(\"reflectance\")\n",
    "    plt.title(\"continuum removed spectra of pyr+olv+plg\")\n",
    "    feature.append(intensity_peakutils)\n",
    "print(len(feature))"
   ]
  },
  {
   "cell_type": "code",
   "execution_count": null,
   "id": "955bfc3f",
   "metadata": {},
   "outputs": [],
   "source": [
    "x8=df.iloc[:,0].to_numpy()\n",
    "for r in range(1,len(df5_m.columns)):\n",
    "    y=df5_m.iloc[:,r].to_numpy()\n",
    "\n",
    "    baseline_peakutils = peakutils.baseline(y)\n",
    "    intensity_peakutils = y - baseline_peakutils\n",
    "    plt.plot(x8,intensity_peakutils)\n",
    "    plt.xlabel(\"wavelength(nm)\")\n",
    "    plt.ylabel(\"reflectance\")\n",
    "    plt.title(\"continuum removed spectra of ol+prx+orth\")\n",
    "    feature.append(intensity_peakutils)\n",
    "print(len(feature))"
   ]
  },
  {
   "cell_type": "code",
   "execution_count": null,
   "id": "d39a16b2",
   "metadata": {},
   "outputs": [],
   "source": [
    "x8=df_pl.iloc[:,0].to_numpy()\n",
    "for r in range(1,len(df_pl.columns)):\n",
    "    y=df_pl.iloc[:,r].to_numpy()\n",
    "\n",
    "    baseline_peakutils = peakutils.baseline(y)\n",
    "    intensity_peakutils = y - baseline_peakutils\n",
    "    plt.plot(x8,intensity_peakutils)\n",
    "    plt.xlabel(\"wavelength(nm)\")\n",
    "    plt.ylabel(\"reflectance\")\n",
    "    plt.title(\"continuum removed spectra of ol+prx+orth\")\n",
    "    feature.append(intensity_peakutils)\n",
    "print(len(feature))"
   ]
  },
  {
   "cell_type": "code",
   "execution_count": null,
   "id": "43213c8b",
   "metadata": {},
   "outputs": [],
   "source": [
    "np.array(feature).shape"
   ]
  },
  {
   "cell_type": "code",
   "execution_count": null,
   "id": "a0424a25",
   "metadata": {},
   "outputs": [],
   "source": [
    "for i in range(len(final)):\n",
    "    feature.append(final[i])\n",
    "print(len(feature))"
   ]
  },
  {
   "cell_type": "code",
   "execution_count": null,
   "id": "334842c1",
   "metadata": {
    "scrolled": true
   },
   "outputs": [],
   "source": [
    "x=df.iloc[:,0].to_numpy()\n",
    "\n",
    "df_f = pd.DataFrame(np.asarray(feature),columns=x)\n",
    "df_f"
   ]
  },
  {
   "cell_type": "code",
   "execution_count": null,
   "id": "41174785",
   "metadata": {},
   "outputs": [],
   "source": [
    "from sklearn.preprocessing import StandardScaler\n",
    "x_ = StandardScaler().fit_transform(df_f)"
   ]
  },
  {
   "cell_type": "code",
   "execution_count": null,
   "id": "51d3fc31",
   "metadata": {
    "scrolled": true
   },
   "outputs": [],
   "source": [
    "from sklearn.decomposition import PCA\n",
    "\n",
    "pca=PCA()\n",
    "principalComponents= pca.fit_transform(x_)\n",
    "plt.figure()\n",
    "plt.plot(np.cumsum(pca.explained_variance_ratio_))\n",
    "plt.xlabel('Number of components')\n",
    "plt.ylabel('Variance%')\n",
    "plt.title('Explain Variance')\n",
    "plt.xlim([1,10])\n",
    "plt.ylim([0.95,1])\n",
    "plt.show()"
   ]
  },
  {
   "cell_type": "code",
   "execution_count": null,
   "id": "a87b2012",
   "metadata": {},
   "outputs": [],
   "source": [
    "pca=PCA(n_components = 8)\n",
    "new_data=pca.fit_transform(df_f)\n"
   ]
  },
  {
   "cell_type": "code",
   "execution_count": null,
   "id": "5fdf712e",
   "metadata": {},
   "outputs": [],
   "source": [
    "principal_x=pd.DataFrame(new_data,columns=[f\"column{i}\" for i in range(8)])"
   ]
  },
  {
   "cell_type": "code",
   "execution_count": null,
   "id": "4d44be89",
   "metadata": {
    "scrolled": true
   },
   "outputs": [],
   "source": [
    "principal_x=principal_x.to_numpy()\n"
   ]
  },
  {
   "cell_type": "code",
   "execution_count": null,
   "id": "45a5feab",
   "metadata": {},
   "outputs": [],
   "source": [
    "principal_x\n",
    "type(principal_x)"
   ]
  },
  {
   "cell_type": "code",
   "execution_count": null,
   "id": "a8f5fbbd",
   "metadata": {},
   "outputs": [],
   "source": [
    "y=[[0,0,0,0,1] for i in range(0,56)]\n",
    "len(y)\n",
    "for j in range(56,74):\n",
    "    y.append([0,0,0,0,1])\n",
    "for k in range(74,91):\n",
    "    y.append([1,0,0,0,0])\n",
    "for l in range(91,102):\n",
    "    y.append([1,0,0,0,1])\n",
    "for l in range(102,127):\n",
    "    y.append([0,1,0,0,0])\n",
    "for l in range(127,159):\n",
    "    y.append([0,0,1,0,0])\n",
    "for l in range(159,192):\n",
    "    y.append([0,0,0,1,0])\n",
    "for l in range(192,197):\n",
    "    y.append([1,0,1,0,0])\n",
    "for l in range(197,207):\n",
    "    y.append([1,1,1,0,1])\n",
    "for l in range(207,210):\n",
    "    y.append([0,1,1,0,1])\n",
    "for l in range(210,214):\n",
    "    y.append([1,1,0,0,1])\n",
    "for l in range(214,218):\n",
    "    y.append([1,0,0,0,1])\n",
    "for l in range(218,226):\n",
    "    y.append([1,1,0,0,1])\n",
    "\n",
    "Y=y\n",
    "len(Y)\n",
    "Y=np.asarray(Y)\n",
    " "
   ]
  },
  {
   "cell_type": "code",
   "execution_count": null,
   "id": "37b006cf",
   "metadata": {
    "scrolled": true
   },
   "outputs": [],
   "source": [
    "principal_x"
   ]
  },
  {
   "cell_type": "code",
   "execution_count": null,
   "id": "66818e6e",
   "metadata": {},
   "outputs": [],
   "source": [
    "principal_x.shape"
   ]
  },
  {
   "cell_type": "code",
   "execution_count": null,
   "id": "27cc7d56",
   "metadata": {},
   "outputs": [],
   "source": [
    "import matplotlib.pyplot as plt\n",
    "import numpy as np\n",
    "from sklearn.datasets import make_blobs\n",
    "from sklearn.multioutput import MultiOutputClassifier\n",
    "from sklearn.svm import SVC\n",
    "from sklearn.model_selection import train_test_split\n",
    "from sklearn.metrics import multilabel_confusion_matrix, ConfusionMatrixDisplay\n"
   ]
  },
  {
   "cell_type": "code",
   "execution_count": null,
   "id": "d1afb836",
   "metadata": {
    "scrolled": true
   },
   "outputs": [],
   "source": [
    "x_train_svm, x_test_svm, y_train_svm, y_test_svm = train_test_split(principal_x[:226], Y[:226], test_size=0.50, random_state=42)\n",
    "print(x_train_svm.shape)\n",
    "print(x_test_svm.shape)\n",
    "svm = SVC(kernel=\"rbf\",random_state=42)\n",
    "multilabel_classifier = MultiOutputClassifier(svm, n_jobs=-1)\n",
    "multilabel_classifier = multilabel_classifier.fit(x_train_svm, y_train_svm)\n",
    "y_test_pred = multilabel_classifier.predict(x_test_svm)\n",
    "matrices_svm = multilabel_confusion_matrix(y_test_svm, y_test_pred)\n",
    "print(metrics.classification_report(y_test_svm,y_test_pred))\n",
    "multilabel_classifier.score(x_test_svm,y_test_svm)"
   ]
  },
  {
   "cell_type": "code",
   "execution_count": null,
   "id": "6fee8204",
   "metadata": {},
   "outputs": [],
   "source": [
    "from sklearn.ensemble import RandomForestClassifier\n",
    "from sklearn.datasets import make_classification\n",
    "x_train_rf, x_test_rf, y_train_rf, y_test_rf = train_test_split(principal_x, Y, test_size=0.2, random_state=42)\n"
   ]
  },
  {
   "cell_type": "code",
   "execution_count": null,
   "id": "b338e6a6",
   "metadata": {},
   "outputs": [],
   "source": [
    "clf = RandomForestClassifier(max_depth=2, random_state=0)\n",
    "clf.fit(x_train_svm, y_train_svm)\n",
    "y_hat=clf.predict(x_test_svm)\n",
    "print(metrics.classification_report(y_test_svm,y_hat))\n",
    "clf.score(x_test_svm,y_test_svm)"
   ]
  },
  {
   "cell_type": "code",
   "execution_count": null,
   "id": "ae3bfcbf",
   "metadata": {},
   "outputs": [],
   "source": [
    "# from sklearn.model_selection import KFold\n",
    "# kf=KFold(n_splits=15)\n",
    "# kf.get_n_splits(principal_x)"
   ]
  },
  {
   "cell_type": "code",
   "execution_count": null,
   "id": "6a113444",
   "metadata": {},
   "outputs": [],
   "source": [
    "# def get_score(model,X_train,X_test,y_train,y_test):\n",
    "#     model.fit(X_train,y_train)\n",
    "#     return model.score(X_test,y_test)"
   ]
  },
  {
   "cell_type": "code",
   "execution_count": null,
   "id": "ecbacf88",
   "metadata": {},
   "outputs": [],
   "source": [
    "# from sklearn.model_selection import StratifiedKFold\n",
    "# folds=StratifiedKFold(n_splits=3)\n"
   ]
  },
  {
   "cell_type": "code",
   "execution_count": null,
   "id": "bfc168e2",
   "metadata": {
    "scrolled": true
   },
   "outputs": [],
   "source": [
    "#scores_k=[]\n",
    "# scores_s=[]\n",
    "# scores_rf=[]\n",
    "# for train_index, test_index in kf.split(principal_x):\n",
    "#     X_train_kf,X_test_kf,y_train_kf,y_test_kf=principal_x[train_index],principal_x[test_index],Y[train_index],Y[test_index]\n",
    "#     scores_k.append(get_score(MLkNN(k=2,s=0.5),X_train_kf,X_test_kf,y_train_kf,y_test_kf))\n",
    "#     scores_s.append(get_score(MultiOutputClassifier(LinearSVC(random_state=42), n_jobs=-1),X_train_kf,X_test_kf,y_train_kf,y_test_kf))\n",
    "#     scores_rf.append(get_score(RandomForestClassifier(max_depth=2, random_state=0),X_train_kf,X_test_kf,y_train_kf,y_test_kf))"
   ]
  },
  {
   "cell_type": "code",
   "execution_count": null,
   "id": "e242f84a",
   "metadata": {},
   "outputs": [],
   "source": [
    "# print(np.average(scores_k))\n",
    "\n",
    "# print(np.average(scores_s))\n",
    "# print(np.average(scores_rf))"
   ]
  },
  {
   "cell_type": "code",
   "execution_count": null,
   "id": "02a6dc4e",
   "metadata": {},
   "outputs": [],
   "source": [
    "from skmultilearn.adapt import MLkNN\n",
    "from sklearn.model_selection import train_test_split\n",
    "x_train,x_test,y_train,y_test=train_test_split(principal_x[:226],Y[:226],test_size=0.10,random_state=17)"
   ]
  },
  {
   "cell_type": "code",
   "execution_count": null,
   "id": "9ecf8d37",
   "metadata": {},
   "outputs": [],
   "source": [
    "from sklearn.model_selection import GridSearchCV\n",
    "parameters = {'k': range(1,10), 's': [0.5, 0.7, 1.0]}\n",
    "score = 'f1_macro'\n",
    "clf = GridSearchCV(MLkNN(), parameters, scoring=score)\n",
    "clf.fit(x_train_svm, y_train_svm)\n",
    "print (clf.best_params_, clf.best_score_)"
   ]
  },
  {
   "cell_type": "code",
   "execution_count": null,
   "id": "0fe4371f",
   "metadata": {},
   "outputs": [],
   "source": [
    "classifier = MLkNN(k=1,s=0.5)\n",
    "\n",
    "# train\n",
    "#classifier.fit(x_train_svm, y_train_svm)\n",
    "classifier.fit(principal_x[:500], Y[:500])\n",
    "# predict\n",
    "predictions = classifier.predict(x_test_svm)\n"
   ]
  },
  {
   "cell_type": "code",
   "execution_count": null,
   "id": "e1862800",
   "metadata": {
    "scrolled": true
   },
   "outputs": [],
   "source": [
    "from sklearn import metrics\n",
    "y_expect=y_test_svm\n",
    "y_pred=predictions\n",
    "print(metrics.classification_report(y_expect,y_pred))\n",
    "classifier.score(x_test_svm,y_test_svm)"
   ]
  },
  {
   "cell_type": "code",
   "execution_count": null,
   "id": "dddb266a",
   "metadata": {},
   "outputs": [],
   "source": [
    "print(classifier.predict(principal_x[501:600]).todense())\n",
    "print(Y[224:229])"
   ]
  },
  {
   "cell_type": "code",
   "execution_count": null,
   "id": "eb0a2aa1",
   "metadata": {},
   "outputs": [],
   "source": [
    "from sklearn.ensemble import StackingClassifier\n",
    "from sklearn.linear_model import LogisticRegression\n",
    "from sklearn.multiclass import  OneVsRestClassifier"
   ]
  },
  {
   "cell_type": "code",
   "execution_count": null,
   "id": "268550eb",
   "metadata": {},
   "outputs": [],
   "source": [
    "base_learners=[('rf_1',MultiOutputClassifier(SVC(kernel=\"rbf\",random_state=42), n_jobs=-1)),('rf_2',MLkNN(k=1,s=0.5))]\n",
    "clf_s=StackingClassifier(estimators=base_learners,final_estimator=MLkNN())"
   ]
  },
  {
   "cell_type": "code",
   "execution_count": null,
   "id": "c3ab69f2",
   "metadata": {},
   "outputs": [],
   "source": [
    "x_train_svm.shape"
   ]
  },
  {
   "cell_type": "code",
   "execution_count": null,
   "id": "39574f80",
   "metadata": {},
   "outputs": [],
   "source": [
    "ovr_model=OneVsRestClassifier(clf_s)\n",
    "ovr_model.fit(x_train_svm, y_train_svm)\n",
    "ovr_model.score(x_test_svm,y_test_svm.reshape(-1,5))"
   ]
  }
 ],
 "metadata": {
  "kernelspec": {
   "display_name": "Python 3 (ipykernel)",
   "language": "python",
   "name": "python3"
  },
  "language_info": {
   "codemirror_mode": {
    "name": "ipython",
    "version": 3
   },
   "file_extension": ".py",
   "mimetype": "text/x-python",
   "name": "python",
   "nbconvert_exporter": "python",
   "pygments_lexer": "ipython3",
   "version": "3.9.6"
  }
 },
 "nbformat": 4,
 "nbformat_minor": 5
}
